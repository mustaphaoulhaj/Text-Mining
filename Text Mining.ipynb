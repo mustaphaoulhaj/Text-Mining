{
 "cells": [
  {
   "cell_type": "markdown",
   "id": "093e625e",
   "metadata": {},
   "source": [
    "# Text Mining"
   ]
  },
  {
   "cell_type": "markdown",
   "id": "b22b3c1a",
   "metadata": {},
   "source": [
    "## Basic Methods"
   ]
  },
  {
   "cell_type": "code",
   "execution_count": 33,
   "id": "e4958852",
   "metadata": {},
   "outputs": [],
   "source": [
    "import pandas as pd\n",
    "import numpy as np\n",
    "import matplotlib.pyplot as plt\n",
    "import seaborn as sns"
   ]
  },
  {
   "cell_type": "code",
   "execution_count": 3,
   "id": "6f5e6211",
   "metadata": {},
   "outputs": [],
   "source": [
    "Text=\"Hi Stof How are you ?\""
   ]
  },
  {
   "cell_type": "code",
   "execution_count": 8,
   "id": "e035c162",
   "metadata": {},
   "outputs": [
    {
     "name": "stdout",
     "output_type": "stream",
     "text": [
      "langueur du text : 21\n"
     ]
    }
   ],
   "source": [
    "# Langueur du texte \n",
    "print(\"langueur du text :\", len(Text))"
   ]
  },
  {
   "cell_type": "code",
   "execution_count": 10,
   "id": "ce309a44",
   "metadata": {},
   "outputs": [
    {
     "name": "stdout",
     "output_type": "stream",
     "text": [
      "Splitted Text : ['Hi', 'Stof', 'How', 'are', 'you', '?']\n"
     ]
    }
   ],
   "source": [
    "# Fractionner un texte\n",
    "print(\"Splitted Text :\", Text.split())"
   ]
  },
  {
   "cell_type": "code",
   "execution_count": 13,
   "id": "6a5b2cfd",
   "metadata": {},
   "outputs": [
    {
     "name": "stdout",
     "output_type": "stream",
     "text": [
      "Les mots ont plus de deux mots : ['Stof', 'How', 'are', 'you']\n"
     ]
    }
   ],
   "source": [
    "# Sélectionner les mots ont plus de deux lettres \n",
    "Splitted_Text=['Hi', 'Stof', 'How', 'are', 'you', '?']\n",
    "MotsSpécifiques=[word for word in Splitted_Text if (len(word)> 2)]\n",
    "print(\"Les mots ont plus de deux mots :\" , MotsSpécifiques)                                                    \n",
    "                                            "
   ]
  },
  {
   "cell_type": "code",
   "execution_count": 17,
   "id": "b2cf8b15",
   "metadata": {},
   "outputs": [
    {
     "name": "stdout",
     "output_type": "stream",
     "text": [
      "Les mots en majuscules : ['Hi', 'Stof', 'How']\n"
     ]
    }
   ],
   "source": [
    "# Sélectionner les mots en majuscules\n",
    "MotsSpécifiques=[word for word in Splitted_Text if word.istitle()]\n",
    "print(\"Les mots en majuscules :\" , MotsSpécifiques)  \n",
    "                 "
   ]
  },
  {
   "cell_type": "code",
   "execution_count": 20,
   "id": "918fb8c2",
   "metadata": {},
   "outputs": [
    {
     "name": "stdout",
     "output_type": "stream",
     "text": [
      "Les  mots qui commencent par la lettre H : ['Hi', 'How']\n",
      "Les  mots qui commencent par la lettre S : ['Stof']\n"
     ]
    }
   ],
   "source": [
    "# Sélectionner les mots qui commencent par la lettre H\n",
    "MotsSpécifiques=[word for word in Splitted_Text if word.startswith(\"H\")]\n",
    "# Sélectionner les mots qui commencent par la lettre H\n",
    "MotsSpécifiques1=[word for word in Splitted_Text if word.startswith(\"S\")]\n",
    "# Résultats\n",
    "print(\"Les  mots qui commencent par la lettre H :\" , MotsSpécifiques)\n",
    "print(\"Les  mots qui commencent par la lettre S :\" , MotsSpécifiques1)"
   ]
  },
  {
   "cell_type": "code",
   "execution_count": 22,
   "id": "0751c2cc",
   "metadata": {},
   "outputs": [
    {
     "name": "stdout",
     "output_type": "stream",
     "text": [
      "Les  mots qui terminent par la lettre E : ['are']\n",
      "Les  mots qui terminent par la lettre I : ['Hi']\n"
     ]
    }
   ],
   "source": [
    "# Sélectionner les mots qui terminent par la lettre E\n",
    "MotsSpécifiques=[word for word in Splitted_Text if word.endswith(\"e\")]\n",
    "# Sélectionner les mots qui terminent par la lettre I\n",
    "MotsSpécifiques1=[word for word in Splitted_Text if word.endswith(\"i\")]\n",
    "# Résultats\n",
    "print(\"Les  mots qui terminent par la lettre e :\" , MotsSpécifiques)\n",
    "print(\"Les  mots qui terminent par la lettre i :\" , MotsSpécifiques1)\n"
   ]
  },
  {
   "cell_type": "code",
   "execution_count": 25,
   "id": "a79ca614",
   "metadata": {},
   "outputs": [
    {
     "name": "stdout",
     "output_type": "stream",
     "text": [
      "Les  mots uniques : {'?', 'are', 'Hi', 'How', 'you', 'Stof'}\n",
      "Les  mots uniques : {'?', 'Hi', 'are', 'Stof', 'Are'}\n"
     ]
    }
   ],
   "source": [
    "# Sélectionner les mots uniques \n",
    "print(\"Les  mots uniques :\" , set(Splitted_Text))\n",
    "# Autres exemples\n",
    "Splitted_Text1=['?', 'are', 'Hi', 'Hi', 'Are', 'Stof']\n",
    "print(\"Les  mots uniques :\" , set(Splitted_Text1))"
   ]
  },
  {
   "cell_type": "code",
   "execution_count": 28,
   "id": "f367c8d3",
   "metadata": {},
   "outputs": [
    {
     "name": "stdout",
     "output_type": "stream",
     "text": [
      "Les  mots uniques : {'?', 'stof', 'hi', 'are'}\n"
     ]
    }
   ],
   "source": [
    "# Sélectionner les mots uniques (non prise en compte de la majuscule)\n",
    "\n",
    "Splitted_Text1=['?', 'are', 'Hi', 'Hi', 'Are', 'Stof']\n",
    "lowercase_Text1=[word.lower() for word in Splitted_Text1]\n",
    "print(\"Les  mots uniques :\" , set(lowercase_Text1))"
   ]
  },
  {
   "cell_type": "code",
   "execution_count": 38,
   "id": "00472160",
   "metadata": {},
   "outputs": [
    {
     "name": "stdout",
     "output_type": "stream",
     "text": [
      "Is S letter in Stof word: True\n",
      "Is S letter in Stof word: False\n"
     ]
    }
   ],
   "source": [
    "# Vérifier si la lettre spécifique existe dans le mot ou pas \n",
    "print(\"Is S letter in Stof word:\", \"S\" in \"Stof\")\n",
    "print(\"Is S letter in Stof word:\", \"s\" in \"Stof\")"
   ]
  },
  {
   "cell_type": "code",
   "execution_count": 39,
   "id": "00625a4e",
   "metadata": {},
   "outputs": [
    {
     "name": "stdout",
     "output_type": "stream",
     "text": [
      "Is word uppercase: True\n",
      "Is word lowercase: True\n"
     ]
    }
   ],
   "source": [
    "# Vérifier si le mot en majuscule (isupper()) ou en miniscule (islower())\n",
    "print(\"Is word uppercase:\", \"STOF\".isupper())\n",
    "print(\"Is word lowercase:\", \"hi\".islower())"
   ]
  },
  {
   "cell_type": "code",
   "execution_count": 43,
   "id": "b81a1a8a",
   "metadata": {},
   "outputs": [
    {
     "name": "stdout",
     "output_type": "stream",
     "text": [
      " est ce que le mot est composé de chiffres:  True\n",
      " est ce que le mot est composé de chiffres:  False\n"
     ]
    }
   ],
   "source": [
    "# les mots  sont composés de chiffres ou non\n",
    "print(\" est ce que le mot est composé de chiffres: \",\"12345\".isdigit())\n",
    "print(\" est ce que le mot est composé de chiffres: \",\"T1234\".isdigit())"
   ]
  },
  {
   "cell_type": "code",
   "execution_count": 54,
   "id": "a7c2ac96",
   "metadata": {},
   "outputs": [
    {
     "name": "stdout",
     "output_type": "stream",
     "text": [
      "0000Hi Stof :  Hi Stof :\n"
     ]
    }
   ],
   "source": [
    "# Supprimer les espaces, les tabulations et les lettres\n",
    "print(\"0000Hi Stof : \",\"0000Hi Stof :\".strip(\"0\"))"
   ]
  },
  {
   "cell_type": "code",
   "execution_count": 61,
   "id": "52d16448",
   "metadata": {},
   "outputs": [
    {
     "name": "stdout",
     "output_type": "stream",
     "text": [
      "Trouver la lettre O du devant :  1\n"
     ]
    }
   ],
   "source": [
    "# Trouver une lettre particulière de l'arriére\n",
    "print(\"Trouver la lettre O du devant : \",\"No cry no\".find(\"o\"))"
   ]
  },
  {
   "cell_type": "code",
   "execution_count": 58,
   "id": "dc15ee5d",
   "metadata": {},
   "outputs": [
    {
     "name": "stdout",
     "output_type": "stream",
     "text": [
      "Trouver la lettre O de l'arriére:  8\n"
     ]
    }
   ],
   "source": [
    "# Trouver une lettre particulière de l'arriére rfind= reverse find\n",
    "print(\"Trouver la lettre O de l'arriére: \",\"No cry no\".rfind(\"o\"))"
   ]
  },
  {
   "cell_type": "code",
   "execution_count": 62,
   "id": "97fb5ddd",
   "metadata": {},
   "outputs": [
    {
     "name": "stdout",
     "output_type": "stream",
     "text": [
      "Replacer o par 3  N3 cry n3\n"
     ]
    }
   ],
   "source": [
    "# replacer la lettre par une autre\n",
    "print(\"Replacer o par 3 \", \"No cry no\".replace(\"o\",\"3\"))"
   ]
  },
  {
   "cell_type": "code",
   "execution_count": 63,
   "id": "db19ce4d",
   "metadata": {},
   "outputs": [
    {
     "name": "stdout",
     "output_type": "stream",
     "text": [
      "Liste des lettres:  ['S', 't', 'o', 'f', ' ', 'O', 'U', 'L']\n"
     ]
    }
   ],
   "source": [
    "# trouver chaque lettre et la stocker  dans une liste \n",
    "print(\"Liste des lettres: \",list(\"Stof OUL\"))"
   ]
  },
  {
   "cell_type": "code",
   "execution_count": 72,
   "id": "753d6c9f",
   "metadata": {},
   "outputs": [
    {
     "name": "stdout",
     "output_type": "stream",
     "text": [
      "Splitted_Text : ['', '', 'Hi', 'Dear', '', '', '', '', '', '', 'How', '', '', 'are', '', '', 'you', '', '', '', '', '?', '', '']\n",
      "Text Clean :  ['Hi', 'Dear', 'How', 'are', 'you', '?']\n"
     ]
    }
   ],
   "source": [
    "# Nettoyage du texte\n",
    "Text1= \"  Hi Dear       How   are   you     ?  \"\n",
    "print(\"Splitted_Text :\", Text1.split(\" \") )\n",
    "print(\"Text Clean : \", Text1.strip(\" \").split())"
   ]
  },
  {
   "cell_type": "code",
   "execution_count": 78,
   "id": "8345226d",
   "metadata": {},
   "outputs": [
    {
     "name": "stdout",
     "output_type": "stream",
     "text": [
      "ï»¿The Project Gutenberg EBook of The Gospel of Buddha, by Paul Carus\n",
      "\n"
     ]
    }
   ],
   "source": [
    "# lire un fichier text ligne par ligne\n",
    "# Lire la premiére ligne du texte\n",
    "with open(\"C:/Users/Mus/Desktop/35895-0.txt\",\"r\", encoding='latin-1') as f:\n",
    "    print(f.readline())"
   ]
  },
  {
   "cell_type": "code",
   "execution_count": 86,
   "id": "f9a86b88",
   "metadata": {},
   "outputs": [
    {
     "name": "stdout",
     "output_type": "stream",
     "text": [
      "Longueur du texte :  581009\n",
      "Nombre de lignes :  13221\n"
     ]
    }
   ],
   "source": [
    "with open(\"C:/Users/Mus/Desktop/35895-0.txt\",\"r\", encoding='utf-8') as f:\n",
    "    text2 = f.read()\n",
    "    print(\"Longueur du texte : \", len(text2))\n",
    "    lines = text2.splitlines()\n",
    "    print(\"Nombre de lignes : \",len(lines))\n",
    "    \n",
    "    \n",
    "# Explication : tout d'abord, il faut ouvrir le fichier texte et ensuite le lire et aprés tu peux l'analyser \n",
    "# Splitlines :  Fractionner les lignes "
   ]
  },
  {
   "cell_type": "code",
   "execution_count": 3,
   "id": "b003d8ec",
   "metadata": {},
   "outputs": [
    {
     "data": {
      "text/html": [
       "<div>\n",
       "<style scoped>\n",
       "    .dataframe tbody tr th:only-of-type {\n",
       "        vertical-align: middle;\n",
       "    }\n",
       "\n",
       "    .dataframe tbody tr th {\n",
       "        vertical-align: top;\n",
       "    }\n",
       "\n",
       "    .dataframe thead th {\n",
       "        text-align: right;\n",
       "    }\n",
       "</style>\n",
       "<table border=\"1\" class=\"dataframe\">\n",
       "  <thead>\n",
       "    <tr style=\"text-align: right;\">\n",
       "      <th></th>\n",
       "      <th>text</th>\n",
       "      <th>favorited</th>\n",
       "      <th>favoriteCount</th>\n",
       "      <th>replyToSN</th>\n",
       "      <th>created</th>\n",
       "      <th>truncated</th>\n",
       "      <th>replyToSID</th>\n",
       "      <th>id</th>\n",
       "      <th>replyToUID</th>\n",
       "      <th>statusSource</th>\n",
       "      <th>screenName</th>\n",
       "      <th>retweetCount</th>\n",
       "      <th>isRetweet</th>\n",
       "      <th>retweeted</th>\n",
       "      <th>longitude</th>\n",
       "      <th>latitude</th>\n",
       "    </tr>\n",
       "  </thead>\n",
       "  <tbody>\n",
       "    <tr>\n",
       "      <th>0</th>\n",
       "      <td>âThe case for learned index structuresâ - ...</td>\n",
       "      <td>False</td>\n",
       "      <td>29</td>\n",
       "      <td>NaN</td>\n",
       "      <td>2017-12-11 16:21:59</td>\n",
       "      <td>True</td>\n",
       "      <td>NaN</td>\n",
       "      <td>940255351378624512</td>\n",
       "      <td>NaN</td>\n",
       "      <td>&lt;a href=\"http://twitter.com/download/iphone\" r...</td>\n",
       "      <td>benhamner</td>\n",
       "      <td>10</td>\n",
       "      <td>False</td>\n",
       "      <td>False</td>\n",
       "      <td>NaN</td>\n",
       "      <td>NaN</td>\n",
       "    </tr>\n",
       "    <tr>\n",
       "      <th>1</th>\n",
       "      <td>@Smerity Lock you in a black box with a window...</td>\n",
       "      <td>False</td>\n",
       "      <td>11</td>\n",
       "      <td>Smerity</td>\n",
       "      <td>2017-12-10 04:16:21</td>\n",
       "      <td>True</td>\n",
       "      <td>9.396588e+17</td>\n",
       "      <td>939710351305670656</td>\n",
       "      <td>15363432.0</td>\n",
       "      <td>&lt;a href=\"http://twitter.com/download/iphone\" r...</td>\n",
       "      <td>benhamner</td>\n",
       "      <td>0</td>\n",
       "      <td>False</td>\n",
       "      <td>False</td>\n",
       "      <td>NaN</td>\n",
       "      <td>NaN</td>\n",
       "    </tr>\n",
       "    <tr>\n",
       "      <th>2</th>\n",
       "      <td>What policy outcomes are you aiming to achieve...</td>\n",
       "      <td>False</td>\n",
       "      <td>5</td>\n",
       "      <td>NaN</td>\n",
       "      <td>2017-12-09 22:47:22</td>\n",
       "      <td>True</td>\n",
       "      <td>NaN</td>\n",
       "      <td>939627560631132160</td>\n",
       "      <td>NaN</td>\n",
       "      <td>&lt;a href=\"http://twitter.com/download/iphone\" r...</td>\n",
       "      <td>benhamner</td>\n",
       "      <td>0</td>\n",
       "      <td>False</td>\n",
       "      <td>False</td>\n",
       "      <td>NaN</td>\n",
       "      <td>NaN</td>\n",
       "    </tr>\n",
       "    <tr>\n",
       "      <th>3</th>\n",
       "      <td>âMachine learning for systems and systems fo...</td>\n",
       "      <td>False</td>\n",
       "      <td>34</td>\n",
       "      <td>NaN</td>\n",
       "      <td>2017-12-09 22:40:48</td>\n",
       "      <td>False</td>\n",
       "      <td>NaN</td>\n",
       "      <td>939625906775003136</td>\n",
       "      <td>NaN</td>\n",
       "      <td>&lt;a href=\"http://twitter.com/download/iphone\" r...</td>\n",
       "      <td>benhamner</td>\n",
       "      <td>21</td>\n",
       "      <td>False</td>\n",
       "      <td>False</td>\n",
       "      <td>NaN</td>\n",
       "      <td>NaN</td>\n",
       "    </tr>\n",
       "    <tr>\n",
       "      <th>4</th>\n",
       "      <td>From the number of talks @goodfellow_ianâs g...</td>\n",
       "      <td>True</td>\n",
       "      <td>180</td>\n",
       "      <td>NaN</td>\n",
       "      <td>2017-12-09 21:59:28</td>\n",
       "      <td>False</td>\n",
       "      <td>NaN</td>\n",
       "      <td>939615505165402112</td>\n",
       "      <td>NaN</td>\n",
       "      <td>&lt;a href=\"http://twitter.com/download/iphone\" r...</td>\n",
       "      <td>benhamner</td>\n",
       "      <td>10</td>\n",
       "      <td>False</td>\n",
       "      <td>False</td>\n",
       "      <td>NaN</td>\n",
       "      <td>NaN</td>\n",
       "    </tr>\n",
       "  </tbody>\n",
       "</table>\n",
       "</div>"
      ],
      "text/plain": [
       "                                                text  favorited  \\\n",
       "0  âThe case for learned index structuresâ - ...      False   \n",
       "1  @Smerity Lock you in a black box with a window...      False   \n",
       "2  What policy outcomes are you aiming to achieve...      False   \n",
       "3  âMachine learning for systems and systems fo...      False   \n",
       "4  From the number of talks @goodfellow_ianâs g...       True   \n",
       "\n",
       "   favoriteCount replyToSN              created  truncated    replyToSID  \\\n",
       "0             29       NaN  2017-12-11 16:21:59       True           NaN   \n",
       "1             11   Smerity  2017-12-10 04:16:21       True  9.396588e+17   \n",
       "2              5       NaN  2017-12-09 22:47:22       True           NaN   \n",
       "3             34       NaN  2017-12-09 22:40:48      False           NaN   \n",
       "4            180       NaN  2017-12-09 21:59:28      False           NaN   \n",
       "\n",
       "                   id  replyToUID  \\\n",
       "0  940255351378624512         NaN   \n",
       "1  939710351305670656  15363432.0   \n",
       "2  939627560631132160         NaN   \n",
       "3  939625906775003136         NaN   \n",
       "4  939615505165402112         NaN   \n",
       "\n",
       "                                        statusSource screenName  retweetCount  \\\n",
       "0  <a href=\"http://twitter.com/download/iphone\" r...  benhamner            10   \n",
       "1  <a href=\"http://twitter.com/download/iphone\" r...  benhamner             0   \n",
       "2  <a href=\"http://twitter.com/download/iphone\" r...  benhamner             0   \n",
       "3  <a href=\"http://twitter.com/download/iphone\" r...  benhamner            21   \n",
       "4  <a href=\"http://twitter.com/download/iphone\" r...  benhamner            10   \n",
       "\n",
       "   isRetweet  retweeted  longitude  latitude  \n",
       "0      False      False        NaN       NaN  \n",
       "1      False      False        NaN       NaN  \n",
       "2      False      False        NaN       NaN  \n",
       "3      False      False        NaN       NaN  \n",
       "4      False      False        NaN       NaN  "
      ]
     },
     "execution_count": 3,
     "metadata": {},
     "output_type": "execute_result"
    }
   ],
   "source": [
    "# read data\n",
    "data = pd.read_csv(\"C:/Users/Mus/Desktop/benhamner.csv\", encoding='latin-1')\n",
    "data.head()"
   ]
  },
  {
   "cell_type": "code",
   "execution_count": 92,
   "id": "e8dea2b6",
   "metadata": {},
   "outputs": [
    {
     "name": "stdout",
     "output_type": "stream",
     "text": [
      "Dans le texte, le taux d’occurrence du mot kaggle est:  0.04072565716401333\n"
     ]
    }
   ],
   "source": [
    "# Trouver les entrées contiennent le mot 'Kaggle'\n",
    "# Taux d'occurrence = la somme des textes comtiennent le mot \"Kaggle\" / Nombre total  des textes\n",
    "print(\"Dans le texte, le taux d’occurrence du mot kaggle est: \",sum(data.text.str.contains('Kaggle'))/len(data))"
   ]
  },
  {
   "cell_type": "code",
   "execution_count": 90,
   "id": "6ff61a88",
   "metadata": {},
   "outputs": [
    {
     "name": "stdout",
     "output_type": "stream",
     "text": [
      "What policy outcomes are you aiming to achieve @jackclarkSF? Lots of ways policy makers could negatively impact theâ¦ https://t.co/UlnSKRFVV5\n"
     ]
    }
   ],
   "source": [
    "# Sélectionner un texte spécifique\n",
    "text = data.text[2]\n",
    "print(text)"
   ]
  },
  {
   "cell_type": "code",
   "execution_count": 93,
   "id": "310cac46",
   "metadata": {},
   "outputs": [],
   "source": [
    "# Trouver une expréssion réguliére sur le texte\n",
    "import re"
   ]
  },
  {
   "cell_type": "code",
   "execution_count": 95,
   "id": "1f47fd0b",
   "metadata": {},
   "outputs": [
    {
     "name": "stdout",
     "output_type": "stream",
     "text": [
      "Légendes:  ['@jackclarkSF?']\n"
     ]
    }
   ],
   "source": [
    "# Trouver les légendes qui commencent par @\n",
    "Legendes = [word for word in text.split(\" \") if re.search(\"@[A-Za-z0-9_]+\",word)]\n",
    "print(\"Légendes: \", Legendes)"
   ]
  },
  {
   "cell_type": "code",
   "execution_count": null,
   "id": "45fa82ec",
   "metadata": {},
   "outputs": [],
   "source": [
    "# Explications\n",
    "\n",
    "# Lets look at this @[A-Za-z0-9_]+ expression more detailed :\n",
    "# @: we say that our searched word start with @\n",
    "# [A-Za-z0-9_]: @ is followed by upper or lower case letters, digits or underscore\n",
    "# +: there can be more than one @. So with \"+\" sign we say that the words which start with @ can be occured more than one times."
   ]
  },
  {
   "cell_type": "code",
   "execution_count": 96,
   "id": "23a9efc4",
   "metadata": {},
   "outputs": [
    {
     "name": "stdout",
     "output_type": "stream",
     "text": [
      "['w']\n"
     ]
    }
   ],
   "source": [
    "# Trouver une caractére spécifique \"w\"\n",
    "print(re.findall(r\"[w]\",text))"
   ]
  },
  {
   "cell_type": "code",
   "execution_count": 97,
   "id": "3f68fa37",
   "metadata": {},
   "outputs": [
    {
     "name": "stdout",
     "output_type": "stream",
     "text": [
      "['W', 'h', 'a', 't', ' ', 'p', 'o', 'l', 'i', 'c', 'y', ' ', 'o', 'u', 't', 'c', 'o', 'm', 'e', 's', ' ', 'a', 'r', 'e', ' ', 'y', 'o', 'u', ' ', 'a', 'i', 'm', 'i', 'n', 'g', ' ', 't', 'o', ' ', 'a', 'c', 'h', 'i', 'e', 'v', 'e', ' ', '@', 'j', 'a', 'c', 'k', 'c', 'l', 'a', 'r', 'k', 'S', 'F', '?', ' ', 'L', 'o', 't', 's', ' ', 'o', 'f', ' ', 'a', 'y', 's', ' ', 'p', 'o', 'l', 'i', 'c', 'y', ' ', 'm', 'a', 'k', 'e', 'r', 's', ' ', 'c', 'o', 'u', 'l', 'd', ' ', 'n', 'e', 'g', 'a', 't', 'i', 'v', 'e', 'l', 'y', ' ', 'i', 'm', 'p', 'a', 'c', 't', ' ', 't', 'h', 'e', 'â', '\\x80', '¦', ' ', 'h', 't', 't', 'p', 's', ':', '/', '/', 't', '.', 'c', 'o', '/', 'U', 'l', 'n', 'S', 'K', 'R', 'F', 'V', 'V', '5']\n"
     ]
    }
   ],
   "source": [
    "# Ne pas Trouver une caractére spécifique \"w\"\n",
    "print(re.findall(r\"[^w]\",text))"
   ]
  },
  {
   "cell_type": "code",
   "execution_count": 98,
   "id": "36f603f2",
   "metadata": {},
   "outputs": [],
   "source": [
    "# Explications \n",
    "\n",
    "# Lets look at regular expressions for date\n",
    "# We will use \"\\d{1,2}[/-]\\d{1,2}[/-]\\d{1,4}\" expression to find dates\n",
    "# d{1,2}: first number can be 1 or 2 digit\n",
    "# [/-]: between digits there can be \"/\" or \"-\" symbols\n",
    "# d{1,4}: last number can be between 1 and 4"
   ]
  },
  {
   "cell_type": "code",
   "execution_count": 101,
   "id": "a6e0dac8",
   "metadata": {},
   "outputs": [
    {
     "data": {
      "text/plain": [
       "['15-10-2000', '09/10/2005', '15-05-1999', '05/05/99', '05/05/199', '05/05/9']"
      ]
     },
     "execution_count": 101,
     "metadata": {},
     "output_type": "execute_result"
    }
   ],
   "source": [
    "# Regular expressions for Dates\n",
    "dates = \"15-10-2000\\n09/10/2005\\n15-05-1999\\n05/05/99\\n\\n05/05/199\\n\\n05/05/9\"\n",
    "re.findall(r\"\\d{1,2}[/-]\\d{1,2}[/-]\\d{1,4}\",dates)"
   ]
  },
  {
   "cell_type": "markdown",
   "id": "cad3c89c",
   "metadata": {},
   "source": [
    "# Natural Language Process (NLP)"
   ]
  },
  {
   "cell_type": "code",
   "execution_count": 19,
   "id": "03bd6e1c",
   "metadata": {},
   "outputs": [],
   "source": [
    "import nltk as nlp"
   ]
  },
  {
   "cell_type": "code",
   "execution_count": 9,
   "id": "7662d434",
   "metadata": {},
   "outputs": [
    {
     "name": "stdout",
     "output_type": "stream",
     "text": [
      "Nombre de mots : 23\n"
     ]
    }
   ],
   "source": [
    "# Fractionner le texte en mots et compter le nombre de mots\n",
    "Text3=data.text[1]\n",
    "Splitted=Text3.split(\" \")\n",
    "print(\"Nombre de mots :\", len(Splitted))"
   ]
  },
  {
   "cell_type": "code",
   "execution_count": 10,
   "id": "a93484c2",
   "metadata": {},
   "outputs": [
    {
     "name": "stdout",
     "output_type": "stream",
     "text": [
      "Nombre de mots uniques : 21\n"
     ]
    }
   ],
   "source": [
    "# Fractionner le texte par mot et compter le nombre de mots uniques\n",
    "print(\"Nombre de mots uniques :\", len(set(Splitted)))"
   ]
  },
  {
   "cell_type": "code",
   "execution_count": 17,
   "id": "472c3629",
   "metadata": {},
   "outputs": [
    {
     "name": "stdout",
     "output_type": "stream",
     "text": [
      "5 first words : ['10', 'box', 'and', 'window', 'numbers']\n"
     ]
    }
   ],
   "source": [
    "# Trouver  les 5 premiers mots uniques \n",
    "print(\"5 first words :\", list(set(Splitted))[:5])\n",
    "# Split : fractionner le texte en mots \n",
    "# Set : avoir les mots uniques\n",
    "# [:5] : 5 Premiers colonnes ~ 5 premiers mots"
   ]
  },
  {
   "cell_type": "code",
   "execution_count": 22,
   "id": "ad8de00e",
   "metadata": {},
   "outputs": [
    {
     "data": {
      "text/plain": [
       "FreqDist({'you': 2, 'a': 2, '@Smerity': 1, 'Lock': 1, 'in': 1, 'black': 1, 'box': 1, 'with': 1, 'window': 1, 'for': 1, ...})"
      ]
     },
     "execution_count": 22,
     "metadata": {},
     "output_type": "execute_result"
    }
   ],
   "source": [
    "# Fréquence de mots \n",
    "Dist=nlp.FreqDist(Splitted)\n",
    "Dist\n",
    "# Donne un Tableau a deux dimensions dans lequel on trouve chaque valeur du corpus avec sa fréquence de distribution"
   ]
  },
  {
   "cell_type": "code",
   "execution_count": 24,
   "id": "233aaf7e",
   "metadata": {},
   "outputs": [
    {
     "name": "stdout",
     "output_type": "stream",
     "text": [
      "Les mots dans le texte :  dict_keys(['@Smerity', 'Lock', 'you', 'in', 'a', 'black', 'box', 'with', 'window', 'for', 'showing', 'numbers', 'and', '10', 'switches', 'to', 'flip.', 'Randomly', 'dripfeed', 'câ\\x80¦', 'https://t.co/cBmm2SSoRI'])\n"
     ]
    }
   ],
   "source": [
    "# Afficher les mots existent dans Dist\n",
    "print(\"Les mots dans le texte : \", Dist.keys())"
   ]
  },
  {
   "cell_type": "code",
   "execution_count": 28,
   "id": "44b3dc00",
   "metadata": {},
   "outputs": [
    {
     "name": "stdout",
     "output_type": "stream",
     "text": [
      "Le mot window est apparu combien de fois :  1\n"
     ]
    }
   ],
   "source": [
    "# compter le nombre de fois qu’une valeur spécifique apparait. Regardons par exemple le mot  «window»\n",
    "print(\"Le mot window est apparu combien de fois : \", Dist[\"window\"] )"
   ]
  },
  {
   "cell_type": "markdown",
   "id": "3919cc48",
   "metadata": {},
   "source": [
    "# Normalisation du texte"
   ]
  },
  {
   "cell_type": "raw",
   "id": "3b5891f6",
   "metadata": {},
   "source": [
    "La normalisation du texte est utilisée pour le prétraitement des mots et des documents. Ils sont généralement utilisées afin d’obtenir des modèles NLP plus précis qui interprètent correctement les entrées."
   ]
  },
  {
   "cell_type": "code",
   "execution_count": 34,
   "id": "75d0dedb",
   "metadata": {},
   "outputs": [
    {
     "name": "stdout",
     "output_type": "stream",
     "text": [
      "Normalisation du texte : ['task', 'tasking', 'tasked', 'tasks']\n"
     ]
    }
   ],
   "source": [
    "Text4=\"Task tasking tasked tasks\"\n",
    "Mots=Text4.lower().split(\" \")\n",
    "print(\"Normalisation du texte :\", Mots)\n",
    "\n",
    "# Explication : Normalisation (Normalization) ctd  fractionner le texte et rendre les mots en minuscule\n",
    "# Normalisation permet de supprimer les caractéres textuelles non alphanumériques et de convertir les données sous forme standard, normale et canonique"
   ]
  },
  {
   "cell_type": "code",
   "execution_count": 37,
   "id": "ad1a9637",
   "metadata": {},
   "outputs": [
    {
     "name": "stdout",
     "output_type": "stream",
     "text": [
      "Les racines des mots task tasking tasked tasks : ['task', 'task', 'task', 'task']\n"
     ]
    }
   ],
   "source": [
    "# stemming (Racinisation)\n",
    "Porter_stemmer=nlp.PorterStemmer()\n",
    "Racines=[Porter_stemmer.stem(mot) for mot in Mots]\n",
    "print(\"Les racines des mots task tasking tasked tasks :\", Racines)\n",
    "\n",
    "# Stemming ou racinisation est une méthode qui permet d'extraire la racine du mot"
   ]
  },
  {
   "cell_type": "code",
   "execution_count": 47,
   "id": "df996ccb",
   "metadata": {},
   "outputs": [
    {
     "name": "stdout",
     "output_type": "stream",
     "text": [
      "Les racines des mots: ['univers', 'recognit', 'becom', 'bore', 'tire']\n",
      "resultat de lemmatisation:  ['University', 'recognition', 'Become', 'boring', 'tired']\n"
     ]
    }
   ],
   "source": [
    "## lemmatization (lemmatisation)\n",
    "\n",
    "# Stemming\n",
    "stemming_word_list = [\"University\",\"recognition\",\"Become\",\"boring\",\"tired\"]\n",
    "Racines1=[Porter_stemmer.stem(each) for each in stemming_word_list]\n",
    "print(\"Les racines des mots:\", Racines1)\n",
    "\n",
    "# Lemmatisation \n",
    "import nltk\n",
    "#nltk.download('wordnet')\n",
    "lemma = nlp.WordNetLemmatizer()\n",
    "lemma_racines = [lemma.lemmatize(each) for each in stemming_word_list]\n",
    "print(\"resultat de lemmatisation: \",lemma_racines)\n",
    "\n",
    "# Lemmatisation est une racinisation qui peremt de transformer les mots dans une forme neutre"
   ]
  },
  {
   "cell_type": "markdown",
   "id": "f20c6f50",
   "metadata": {},
   "source": [
    "# Tokenization  (tokenisation)"
   ]
  },
  {
   "cell_type": "code",
   "execution_count": 53,
   "id": "0f837823",
   "metadata": {},
   "outputs": [
    {
     "name": "stdout",
     "output_type": "stream",
     "text": [
      "Tokenisation du texte : ['What', 'are', 'you', 'doing', 'here', 'Sir', '?']\n",
      "Tokenisation en utilisant nltk : ['What', 'are', 'you', 'doing', 'here', 'Sir', '?']\n"
     ]
    }
   ],
   "source": [
    "Text5=\"What are you doing here Sir ?\"\n",
    "print(\"Tokenisation du texte :\", Text5.split(\" \"))\n",
    "\n",
    "#nltk.download('punkt')\n",
    "print(\"Tokenisation en utilisant nltk :\", nlp.word_tokenize(Text5))\n",
    "# Tokenisation est une méthode qui permet de fractionner un texte en mots"
   ]
  },
  {
   "cell_type": "markdown",
   "id": "aa1e7481",
   "metadata": {},
   "source": [
    "# Fusion des mots"
   ]
  },
  {
   "cell_type": "code",
   "execution_count": 49,
   "id": "2469ad89",
   "metadata": {},
   "outputs": [
    {
     "name": "stdout",
     "output_type": "stream",
     "text": [
      "Phrase : Stop looking for happiness in the same place you lost it\n"
     ]
    }
   ],
   "source": [
    "liste_de_mots = [\"Stop\", \"looking\", \"for\", \"happiness\", \"in\", \"the\", \"same\", \"place\", \"you\", \"lost\", \"it\"]\n",
    "\n",
    "# Fusion des mots pour créer une phrase\n",
    "phrase = ' '.join(liste_de_mots)\n",
    "\n",
    "# Affichage de la phrase résultante\n",
    "print(\"Phrase :\", phrase)\n"
   ]
  },
  {
   "cell_type": "markdown",
   "id": "59984a70",
   "metadata": {},
   "source": [
    "# La distance d’édition ou distance de Levenshtein"
   ]
  },
  {
   "cell_type": "code",
   "execution_count": 8,
   "id": "37f449c6",
   "metadata": {},
   "outputs": [
    {
     "name": "stdout",
     "output_type": "stream",
     "text": [
      "Distance de Levenshtein entre 'Hi' et 'Hello': 5\n",
      "Les différences entre deux mots : ['  H', '- i', '+ e', '+ l', '+ l', '+ o']\n"
     ]
    }
   ],
   "source": [
    "from difflib import ndiff\n",
    "\n",
    "str1 = \"Hi\"\n",
    "str2 = \"Hello\"\n",
    "\n",
    "# Convertir les chaînes en listes de caractères\n",
    "list1 = list(str1)\n",
    "list2 = list(str2)\n",
    "\n",
    "# Calculer la différence entre les deux listes\n",
    "diff = list(ndiff(list1, list2))\n",
    "\n",
    "# Compter les opérations d'édition\n",
    "levenshtein_distance = sum(1 for item in diff if item[0] != ' ')\n",
    "\n",
    "print(f\"Distance de Levenshtein entre '{str1}' et '{str2}': {levenshtein_distance}\")\n",
    "print(f\"Les différences entre deux mots :\", diff)\n",
    "\n",
    "\n",
    "# Explication : Cette métrique permet d’estimer la similarité de deux valeurs d’une chaîne de caractères\n",
    "# (mot, forme de mot, composition de mots), en comparant le nombre minimum d’opérations pour convertir\n",
    "# une valeur en une autre.\n",
    "# Cette technique est souvent utilisée dans la correction automatique de l’orthographe\n",
    "# ou  la quantification de séquences ADN similaires exprimées en lettres.\n",
    "\n",
    "# Intrepretation de Diff :\n",
    "# 'H' signifie que \"H\" est présent dans les deux mots et ne nécessite aucune opération d'édition.\n",
    "# '-i' signifie que \"i\" doit être supprimé de le premier mot.\n",
    "# Les symboles '+ e', '+ l', '+ l' et '+ o' o\" signifie qu'un \"l\" suivi d'un \"l\" suivi d'un \"o\" doit être inséré dans la premiére séquence."
   ]
  },
  {
   "cell_type": "markdown",
   "id": "db7113f0",
   "metadata": {},
   "source": [
    "# Similarité cosinus"
   ]
  },
  {
   "cell_type": "raw",
   "id": "c909e699",
   "metadata": {},
   "source": [
    "La similarité cosinus permet de mesurer la ressemblance entre divers documents. Soit deux vecteurs A et B, l’angle 0 s’obtient par le produit scalaire et la norme des vecteurs. Elle nécessite de vectoriser les documents à analyser. \n",
    "\n",
    "Nous utilisons la méthode de vectorisation du texte qui permet de convertir des mots en chiffre. Ces différences sont représentées sous forme de valeurs de cosinus ou d’angles. La valeur -1 représente des vecteurs totalement opposés, 0 des vecteurs orthogonaux et 1 des vecteurs similaires. "
   ]
  },
  {
   "cell_type": "markdown",
   "id": "bd211252",
   "metadata": {},
   "source": [
    "## Les méthodes de verctorisation"
   ]
  },
  {
   "cell_type": "code",
   "execution_count": 18,
   "id": "8ebbae36",
   "metadata": {},
   "outputs": [
    {
     "name": "stdout",
     "output_type": "stream",
     "text": [
      "Les mots extraites : ['and' 'are' 'doing' 'hello' 'hi' 'how' 'me' 'sir' 'thanks' 'too' 'well'\n",
      " 'you']\n",
      "La matrice BOW présente sous la forme suivante :\n",
      "[[0 1 0 0 1 1 0 1 0 0 0 1]\n",
      " [1 0 1 1 0 0 0 1 0 0 1 1]\n",
      " [0 0 0 0 0 0 1 0 1 1 0 0]]\n"
     ]
    }
   ],
   "source": [
    "# 1)- Bag of words (sac de mots)\n",
    "\n",
    "from sklearn.feature_extraction.text import CountVectorizer\n",
    "\n",
    "Documents=[\"Hi Sir How are you ?\",\n",
    "          \"Hello Sir I'm doing well and you ?\",\n",
    "          \"Me too Thanks.\"\n",
    "         ]\n",
    "\n",
    "# Initialiser le vectoriseur BoW\n",
    "Vectorizer=CountVectorizer()\n",
    "\n",
    "# Appliquer la vectorisation sur les documents \n",
    "X=Vectorizer.fit_transform(Documents)\n",
    "\n",
    "# Obtenir la matrice BOW\n",
    "BOW_Matrix=X.toarray()\n",
    "\n",
    "# Afficher les mots extraites\n",
    "features=Vectorizer.get_feature_names_out()\n",
    "print(\"Les mots extraites :\", features )\n",
    "\n",
    "# Afficher la matrice BOW \n",
    "print(\"La matrice BOW présente sous la forme suivante :\")\n",
    "print(BOW_Matrix)\n",
    "\n",
    "# La technique BOW consiste à attribuer à chaque mot un index entier unique pour construire un dictionnaire de mots\n",
    "# et à compter le nombre d’occurrences de chaque mot et faire correspondre cette valeur à l’index correspondant."
   ]
  },
  {
   "cell_type": "code",
   "execution_count": 29,
   "id": "c259d015",
   "metadata": {},
   "outputs": [
    {
     "name": "stdout",
     "output_type": "stream",
     "text": [
      "Les mots extraites : ['and' 'are' 'doing' 'hello' 'hi' 'how' 'me' 'sir' 'thanks' 'too' 'well'\n",
      " 'you']\n",
      "La matrice TF-IDF présente sous la forme suivante :\n",
      "[[0.         0.49047908 0.         0.         0.49047908 0.49047908\n",
      "  0.         0.37302199 0.         0.         0.         0.37302199]\n",
      " [0.44036207 0.         0.44036207 0.44036207 0.         0.\n",
      "  0.         0.3349067  0.         0.         0.44036207 0.3349067 ]\n",
      " [0.         0.         0.         0.         0.         0.\n",
      "  0.57735027 0.         0.57735027 0.57735027 0.         0.        ]]\n"
     ]
    }
   ],
   "source": [
    "# 2)- Les algorithmes TF-IDF (Term Frequency (A) - Inverse Document Frequency (A)) A: Algorithme\n",
    "# La technique TF-IDF est la plus efficace\n",
    "\n",
    "# TF : calcule le nombre d’occurrences d’un terme en comparaison avec le nombre total de mots dans un texte .\n",
    "# Comme nous avons vu auparavnt dans la section Basic Methods, plus précisement l'exemple de kaggale.\n",
    "\n",
    "# IDF : mesure l’importance d’un terme dans un texte ou une collection de texte.\n",
    "# Il est calculé comme un logarithme du nombre de documents divisé par le nombre de documents contenant ce terme.\n",
    "\n",
    "from sklearn.feature_extraction.text import TfidfVectorizer\n",
    "\n",
    "\n",
    "Documents=[\"Hi Sir How are you ?\",\n",
    "          \"Hello Sir I'm doing well and you ?\",\n",
    "          \"Me too Thanks.\"\n",
    "         ]\n",
    "\n",
    "# Initialiser le vectoriseur TF-IDF \n",
    "Vectorizer_TFIDF=TfidfVectorizer()\n",
    "\n",
    "# Appliquer la vectorisation sur les documents \n",
    "X_tfidf = Vectorizer_TFIDF.fit_transform(Documents)\n",
    "\n",
    "# Obtenir la matrice TF-IDF \n",
    "Tfidf_Matrix=X_tfidf.toarray()\n",
    "\n",
    "# Afficher les mots extraites\n",
    "features=Vectorizer_TFIDF.get_feature_names_out()\n",
    "print(\"Les mots extraites :\", features )\n",
    "\n",
    "# Afficher la matrice TF-IDF\n",
    "print(\"La matrice TF-IDF présente sous la forme suivante :\")\n",
    "print(Tfidf_Matrix)\n",
    "\n",
    "\n",
    "# Nous évaluons les valeurs TF pour chaque mot, extrayons les valeurs IDF pour enfin obtenir les quotients TF-IDF\n",
    "# en multipliant les résultats de TF par IDF. Cela forme un dictionnaire de classification pour chaque mot utilisé,\n",
    "# suivant leur importance."
   ]
  },
  {
   "cell_type": "code",
   "execution_count": 30,
   "id": "b99acdab",
   "metadata": {},
   "outputs": [
    {
     "name": "stdout",
     "output_type": "stream",
     "text": [
      "Matrice de Similarité Cosinus avec BOW :\n",
      "[[1.         0.36514837 0.        ]\n",
      " [0.36514837 1.         0.        ]\n",
      " [0.         0.         1.        ]]\n",
      "Matrice de Similarité Cosinus avec TF-IDF :\n",
      "[[1.         0.24985513 0.        ]\n",
      " [0.24985513 1.         0.        ]\n",
      " [0.         0.         1.        ]]\n"
     ]
    }
   ],
   "source": [
    "# Calculer la similarité cosinus entre les documents\n",
    "\n",
    "from sklearn.metrics.pairwise import cosine_similarity\n",
    "\n",
    "# Bag of Words\n",
    "cosine_similarities_BOW = cosine_similarity(X, X)\n",
    "\n",
    "# TF-IDF \n",
    "cosine_similarities_tfidf = cosine_similarity(X_tfidf, X_tfidf)\n",
    "\n",
    "# Afficher la matrice de similarité cosinus pour chaque méthode\n",
    "print(\"Matrice de Similarité Cosinus avec BOW :\")\n",
    "print(cosine_similarities_BOW)\n",
    "\n",
    "print(\"Matrice de Similarité Cosinus avec TF-IDF :\")\n",
    "print(cosine_similarities_tfidf)"
   ]
  },
  {
   "cell_type": "markdown",
   "id": "3dbf27dd",
   "metadata": {},
   "source": [
    "# Text Classification"
   ]
  },
  {
   "cell_type": "code",
   "execution_count": 34,
   "id": "aedc388d",
   "metadata": {},
   "outputs": [],
   "source": [
    "data1 = pd.read_csv(\"C:/Users/Mus/Desktop/gender-classifier-DFE-791531.csv\",encoding='latin1')"
   ]
  },
  {
   "cell_type": "code",
   "execution_count": 35,
   "id": "f81393af",
   "metadata": {},
   "outputs": [
    {
     "data": {
      "text/html": [
       "<div>\n",
       "<style scoped>\n",
       "    .dataframe tbody tr th:only-of-type {\n",
       "        vertical-align: middle;\n",
       "    }\n",
       "\n",
       "    .dataframe tbody tr th {\n",
       "        vertical-align: top;\n",
       "    }\n",
       "\n",
       "    .dataframe thead th {\n",
       "        text-align: right;\n",
       "    }\n",
       "</style>\n",
       "<table border=\"1\" class=\"dataframe\">\n",
       "  <thead>\n",
       "    <tr style=\"text-align: right;\">\n",
       "      <th></th>\n",
       "      <th>_unit_id</th>\n",
       "      <th>_golden</th>\n",
       "      <th>_unit_state</th>\n",
       "      <th>_trusted_judgments</th>\n",
       "      <th>_last_judgment_at</th>\n",
       "      <th>gender</th>\n",
       "      <th>gender:confidence</th>\n",
       "      <th>profile_yn</th>\n",
       "      <th>profile_yn:confidence</th>\n",
       "      <th>created</th>\n",
       "      <th>...</th>\n",
       "      <th>profileimage</th>\n",
       "      <th>retweet_count</th>\n",
       "      <th>sidebar_color</th>\n",
       "      <th>text</th>\n",
       "      <th>tweet_coord</th>\n",
       "      <th>tweet_count</th>\n",
       "      <th>tweet_created</th>\n",
       "      <th>tweet_id</th>\n",
       "      <th>tweet_location</th>\n",
       "      <th>user_timezone</th>\n",
       "    </tr>\n",
       "  </thead>\n",
       "  <tbody>\n",
       "    <tr>\n",
       "      <th>0</th>\n",
       "      <td>815719226</td>\n",
       "      <td>False</td>\n",
       "      <td>finalized</td>\n",
       "      <td>3</td>\n",
       "      <td>10/26/15 23:24</td>\n",
       "      <td>male</td>\n",
       "      <td>1.0000</td>\n",
       "      <td>yes</td>\n",
       "      <td>1.0</td>\n",
       "      <td>12/5/13 1:48</td>\n",
       "      <td>...</td>\n",
       "      <td>https://pbs.twimg.com/profile_images/414342229...</td>\n",
       "      <td>0</td>\n",
       "      <td>FFFFFF</td>\n",
       "      <td>Robbie E Responds To Critics After Win Against...</td>\n",
       "      <td>NaN</td>\n",
       "      <td>110964</td>\n",
       "      <td>10/26/15 12:40</td>\n",
       "      <td>6.587300e+17</td>\n",
       "      <td>main; @Kan1shk3</td>\n",
       "      <td>Chennai</td>\n",
       "    </tr>\n",
       "    <tr>\n",
       "      <th>1</th>\n",
       "      <td>815719227</td>\n",
       "      <td>False</td>\n",
       "      <td>finalized</td>\n",
       "      <td>3</td>\n",
       "      <td>10/26/15 23:30</td>\n",
       "      <td>male</td>\n",
       "      <td>1.0000</td>\n",
       "      <td>yes</td>\n",
       "      <td>1.0</td>\n",
       "      <td>10/1/12 13:51</td>\n",
       "      <td>...</td>\n",
       "      <td>https://pbs.twimg.com/profile_images/539604221...</td>\n",
       "      <td>0</td>\n",
       "      <td>C0DEED</td>\n",
       "      <td>ÛÏIt felt like they were my friends and I was...</td>\n",
       "      <td>NaN</td>\n",
       "      <td>7471</td>\n",
       "      <td>10/26/15 12:40</td>\n",
       "      <td>6.587300e+17</td>\n",
       "      <td>NaN</td>\n",
       "      <td>Eastern Time (US &amp; Canada)</td>\n",
       "    </tr>\n",
       "    <tr>\n",
       "      <th>2</th>\n",
       "      <td>815719228</td>\n",
       "      <td>False</td>\n",
       "      <td>finalized</td>\n",
       "      <td>3</td>\n",
       "      <td>10/26/15 23:33</td>\n",
       "      <td>male</td>\n",
       "      <td>0.6625</td>\n",
       "      <td>yes</td>\n",
       "      <td>1.0</td>\n",
       "      <td>11/28/14 11:30</td>\n",
       "      <td>...</td>\n",
       "      <td>https://pbs.twimg.com/profile_images/657330418...</td>\n",
       "      <td>1</td>\n",
       "      <td>C0DEED</td>\n",
       "      <td>i absolutely adore when louis starts the songs...</td>\n",
       "      <td>NaN</td>\n",
       "      <td>5617</td>\n",
       "      <td>10/26/15 12:40</td>\n",
       "      <td>6.587300e+17</td>\n",
       "      <td>clcncl</td>\n",
       "      <td>Belgrade</td>\n",
       "    </tr>\n",
       "    <tr>\n",
       "      <th>3</th>\n",
       "      <td>815719229</td>\n",
       "      <td>False</td>\n",
       "      <td>finalized</td>\n",
       "      <td>3</td>\n",
       "      <td>10/26/15 23:10</td>\n",
       "      <td>male</td>\n",
       "      <td>1.0000</td>\n",
       "      <td>yes</td>\n",
       "      <td>1.0</td>\n",
       "      <td>6/11/09 22:39</td>\n",
       "      <td>...</td>\n",
       "      <td>https://pbs.twimg.com/profile_images/259703936...</td>\n",
       "      <td>0</td>\n",
       "      <td>C0DEED</td>\n",
       "      <td>Hi @JordanSpieth - Looking at the url - do you...</td>\n",
       "      <td>NaN</td>\n",
       "      <td>1693</td>\n",
       "      <td>10/26/15 12:40</td>\n",
       "      <td>6.587300e+17</td>\n",
       "      <td>Palo Alto, CA</td>\n",
       "      <td>Pacific Time (US &amp; Canada)</td>\n",
       "    </tr>\n",
       "    <tr>\n",
       "      <th>4</th>\n",
       "      <td>815719230</td>\n",
       "      <td>False</td>\n",
       "      <td>finalized</td>\n",
       "      <td>3</td>\n",
       "      <td>10/27/15 1:15</td>\n",
       "      <td>female</td>\n",
       "      <td>1.0000</td>\n",
       "      <td>yes</td>\n",
       "      <td>1.0</td>\n",
       "      <td>4/16/14 13:23</td>\n",
       "      <td>...</td>\n",
       "      <td>https://pbs.twimg.com/profile_images/564094871...</td>\n",
       "      <td>0</td>\n",
       "      <td>0</td>\n",
       "      <td>Watching Neighbours on Sky+ catching up with t...</td>\n",
       "      <td>NaN</td>\n",
       "      <td>31462</td>\n",
       "      <td>10/26/15 12:40</td>\n",
       "      <td>6.587300e+17</td>\n",
       "      <td>NaN</td>\n",
       "      <td>NaN</td>\n",
       "    </tr>\n",
       "  </tbody>\n",
       "</table>\n",
       "<p>5 rows × 26 columns</p>\n",
       "</div>"
      ],
      "text/plain": [
       "    _unit_id  _golden _unit_state  _trusted_judgments _last_judgment_at  \\\n",
       "0  815719226    False   finalized                   3    10/26/15 23:24   \n",
       "1  815719227    False   finalized                   3    10/26/15 23:30   \n",
       "2  815719228    False   finalized                   3    10/26/15 23:33   \n",
       "3  815719229    False   finalized                   3    10/26/15 23:10   \n",
       "4  815719230    False   finalized                   3     10/27/15 1:15   \n",
       "\n",
       "   gender  gender:confidence profile_yn  profile_yn:confidence  \\\n",
       "0    male             1.0000        yes                    1.0   \n",
       "1    male             1.0000        yes                    1.0   \n",
       "2    male             0.6625        yes                    1.0   \n",
       "3    male             1.0000        yes                    1.0   \n",
       "4  female             1.0000        yes                    1.0   \n",
       "\n",
       "          created  ...                                       profileimage  \\\n",
       "0    12/5/13 1:48  ...  https://pbs.twimg.com/profile_images/414342229...   \n",
       "1   10/1/12 13:51  ...  https://pbs.twimg.com/profile_images/539604221...   \n",
       "2  11/28/14 11:30  ...  https://pbs.twimg.com/profile_images/657330418...   \n",
       "3   6/11/09 22:39  ...  https://pbs.twimg.com/profile_images/259703936...   \n",
       "4   4/16/14 13:23  ...  https://pbs.twimg.com/profile_images/564094871...   \n",
       "\n",
       "   retweet_count sidebar_color  \\\n",
       "0              0        FFFFFF   \n",
       "1              0        C0DEED   \n",
       "2              1        C0DEED   \n",
       "3              0        C0DEED   \n",
       "4              0             0   \n",
       "\n",
       "                                                text tweet_coord tweet_count  \\\n",
       "0  Robbie E Responds To Critics After Win Against...         NaN      110964   \n",
       "1  ÛÏIt felt like they were my friends and I was...         NaN        7471   \n",
       "2  i absolutely adore when louis starts the songs...         NaN        5617   \n",
       "3  Hi @JordanSpieth - Looking at the url - do you...         NaN        1693   \n",
       "4  Watching Neighbours on Sky+ catching up with t...         NaN       31462   \n",
       "\n",
       "    tweet_created      tweet_id   tweet_location               user_timezone  \n",
       "0  10/26/15 12:40  6.587300e+17  main; @Kan1shk3                     Chennai  \n",
       "1  10/26/15 12:40  6.587300e+17              NaN  Eastern Time (US & Canada)  \n",
       "2  10/26/15 12:40  6.587300e+17           clcncl                    Belgrade  \n",
       "3  10/26/15 12:40  6.587300e+17    Palo Alto, CA  Pacific Time (US & Canada)  \n",
       "4  10/26/15 12:40  6.587300e+17              NaN                         NaN  \n",
       "\n",
       "[5 rows x 26 columns]"
      ]
     },
     "execution_count": 35,
     "metadata": {},
     "output_type": "execute_result"
    }
   ],
   "source": [
    "data1.head()"
   ]
  },
  {
   "cell_type": "code",
   "execution_count": 37,
   "id": "ab5a0eb5",
   "metadata": {},
   "outputs": [
    {
     "data": {
      "text/html": [
       "<div>\n",
       "<style scoped>\n",
       "    .dataframe tbody tr th:only-of-type {\n",
       "        vertical-align: middle;\n",
       "    }\n",
       "\n",
       "    .dataframe tbody tr th {\n",
       "        vertical-align: top;\n",
       "    }\n",
       "\n",
       "    .dataframe thead th {\n",
       "        text-align: right;\n",
       "    }\n",
       "</style>\n",
       "<table border=\"1\" class=\"dataframe\">\n",
       "  <thead>\n",
       "    <tr style=\"text-align: right;\">\n",
       "      <th></th>\n",
       "      <th>gender</th>\n",
       "      <th>description</th>\n",
       "    </tr>\n",
       "  </thead>\n",
       "  <tbody>\n",
       "    <tr>\n",
       "      <th>0</th>\n",
       "      <td>male</td>\n",
       "      <td>i sing my own rhythm.</td>\n",
       "    </tr>\n",
       "    <tr>\n",
       "      <th>1</th>\n",
       "      <td>male</td>\n",
       "      <td>I'm the author of novels filled with family dr...</td>\n",
       "    </tr>\n",
       "    <tr>\n",
       "      <th>2</th>\n",
       "      <td>male</td>\n",
       "      <td>louis whining and squealing and all</td>\n",
       "    </tr>\n",
       "    <tr>\n",
       "      <th>3</th>\n",
       "      <td>male</td>\n",
       "      <td>Mobile guy.  49ers, Shazam, Google, Kleiner Pe...</td>\n",
       "    </tr>\n",
       "    <tr>\n",
       "      <th>4</th>\n",
       "      <td>female</td>\n",
       "      <td>Ricky Wilson The Best FRONTMAN/Kaiser Chiefs T...</td>\n",
       "    </tr>\n",
       "    <tr>\n",
       "      <th>...</th>\n",
       "      <td>...</td>\n",
       "      <td>...</td>\n",
       "    </tr>\n",
       "    <tr>\n",
       "      <th>20045</th>\n",
       "      <td>female</td>\n",
       "      <td>(rp)</td>\n",
       "    </tr>\n",
       "    <tr>\n",
       "      <th>20046</th>\n",
       "      <td>male</td>\n",
       "      <td>Whatever you like, it's not a problem at all. ...</td>\n",
       "    </tr>\n",
       "    <tr>\n",
       "      <th>20047</th>\n",
       "      <td>male</td>\n",
       "      <td>#TeamBarcelona ..You look lost so you should f...</td>\n",
       "    </tr>\n",
       "    <tr>\n",
       "      <th>20048</th>\n",
       "      <td>female</td>\n",
       "      <td>Anti-statist; I homeschool my kids. Aspiring t...</td>\n",
       "    </tr>\n",
       "    <tr>\n",
       "      <th>20049</th>\n",
       "      <td>female</td>\n",
       "      <td>Teamwork makes the dream work.</td>\n",
       "    </tr>\n",
       "  </tbody>\n",
       "</table>\n",
       "<p>20050 rows × 2 columns</p>\n",
       "</div>"
      ],
      "text/plain": [
       "       gender                                        description\n",
       "0        male                              i sing my own rhythm.\n",
       "1        male  I'm the author of novels filled with family dr...\n",
       "2        male                louis whining and squealing and all\n",
       "3        male  Mobile guy.  49ers, Shazam, Google, Kleiner Pe...\n",
       "4      female  Ricky Wilson The Best FRONTMAN/Kaiser Chiefs T...\n",
       "...       ...                                                ...\n",
       "20045  female                                               (rp)\n",
       "20046    male  Whatever you like, it's not a problem at all. ...\n",
       "20047    male  #TeamBarcelona ..You look lost so you should f...\n",
       "20048  female  Anti-statist; I homeschool my kids. Aspiring t...\n",
       "20049  female                     Teamwork makes the dream work.\n",
       "\n",
       "[20050 rows x 2 columns]"
      ]
     },
     "execution_count": 37,
     "metadata": {},
     "output_type": "execute_result"
    }
   ],
   "source": [
    "# Concatener les colonnes 'gender' et 'description' \n",
    "data2 = pd.concat([data1.gender,data1.description],axis=1)\n",
    "data2"
   ]
  },
  {
   "cell_type": "code",
   "execution_count": 38,
   "id": "0d216205",
   "metadata": {},
   "outputs": [
    {
     "name": "stdout",
     "output_type": "stream",
     "text": [
      "Index(['gender', 'description'], dtype='object')\n"
     ]
    }
   ],
   "source": [
    "# Vérifier les noms de colonnes\n",
    "print(data2.columns)"
   ]
  },
  {
   "cell_type": "code",
   "execution_count": 39,
   "id": "fd83971a",
   "metadata": {},
   "outputs": [],
   "source": [
    "data2.dropna(inplace=True)"
   ]
  },
  {
   "cell_type": "code",
   "execution_count": 40,
   "id": "e270880c",
   "metadata": {},
   "outputs": [],
   "source": [
    "# convertir la variable gender een variable binaire (1: female et 0: male)\n",
    "data2.gender = [1 if each == \"female\" else 0 for each in data2.gender] "
   ]
  },
  {
   "cell_type": "code",
   "execution_count": 41,
   "id": "0c43acf4",
   "metadata": {},
   "outputs": [
    {
     "data": {
      "text/html": [
       "<div>\n",
       "<style scoped>\n",
       "    .dataframe tbody tr th:only-of-type {\n",
       "        vertical-align: middle;\n",
       "    }\n",
       "\n",
       "    .dataframe tbody tr th {\n",
       "        vertical-align: top;\n",
       "    }\n",
       "\n",
       "    .dataframe thead th {\n",
       "        text-align: right;\n",
       "    }\n",
       "</style>\n",
       "<table border=\"1\" class=\"dataframe\">\n",
       "  <thead>\n",
       "    <tr style=\"text-align: right;\">\n",
       "      <th></th>\n",
       "      <th>gender</th>\n",
       "      <th>description</th>\n",
       "    </tr>\n",
       "  </thead>\n",
       "  <tbody>\n",
       "    <tr>\n",
       "      <th>0</th>\n",
       "      <td>0</td>\n",
       "      <td>i sing my own rhythm.</td>\n",
       "    </tr>\n",
       "    <tr>\n",
       "      <th>1</th>\n",
       "      <td>0</td>\n",
       "      <td>I'm the author of novels filled with family dr...</td>\n",
       "    </tr>\n",
       "    <tr>\n",
       "      <th>2</th>\n",
       "      <td>0</td>\n",
       "      <td>louis whining and squealing and all</td>\n",
       "    </tr>\n",
       "    <tr>\n",
       "      <th>3</th>\n",
       "      <td>0</td>\n",
       "      <td>Mobile guy.  49ers, Shazam, Google, Kleiner Pe...</td>\n",
       "    </tr>\n",
       "    <tr>\n",
       "      <th>4</th>\n",
       "      <td>1</td>\n",
       "      <td>Ricky Wilson The Best FRONTMAN/Kaiser Chiefs T...</td>\n",
       "    </tr>\n",
       "    <tr>\n",
       "      <th>...</th>\n",
       "      <td>...</td>\n",
       "      <td>...</td>\n",
       "    </tr>\n",
       "    <tr>\n",
       "      <th>20045</th>\n",
       "      <td>1</td>\n",
       "      <td>(rp)</td>\n",
       "    </tr>\n",
       "    <tr>\n",
       "      <th>20046</th>\n",
       "      <td>0</td>\n",
       "      <td>Whatever you like, it's not a problem at all. ...</td>\n",
       "    </tr>\n",
       "    <tr>\n",
       "      <th>20047</th>\n",
       "      <td>0</td>\n",
       "      <td>#TeamBarcelona ..You look lost so you should f...</td>\n",
       "    </tr>\n",
       "    <tr>\n",
       "      <th>20048</th>\n",
       "      <td>1</td>\n",
       "      <td>Anti-statist; I homeschool my kids. Aspiring t...</td>\n",
       "    </tr>\n",
       "    <tr>\n",
       "      <th>20049</th>\n",
       "      <td>1</td>\n",
       "      <td>Teamwork makes the dream work.</td>\n",
       "    </tr>\n",
       "  </tbody>\n",
       "</table>\n",
       "<p>16224 rows × 2 columns</p>\n",
       "</div>"
      ],
      "text/plain": [
       "       gender                                        description\n",
       "0           0                              i sing my own rhythm.\n",
       "1           0  I'm the author of novels filled with family dr...\n",
       "2           0                louis whining and squealing and all\n",
       "3           0  Mobile guy.  49ers, Shazam, Google, Kleiner Pe...\n",
       "4           1  Ricky Wilson The Best FRONTMAN/Kaiser Chiefs T...\n",
       "...       ...                                                ...\n",
       "20045       1                                               (rp)\n",
       "20046       0  Whatever you like, it's not a problem at all. ...\n",
       "20047       0  #TeamBarcelona ..You look lost so you should f...\n",
       "20048       1  Anti-statist; I homeschool my kids. Aspiring t...\n",
       "20049       1                     Teamwork makes the dream work.\n",
       "\n",
       "[16224 rows x 2 columns]"
      ]
     },
     "execution_count": 41,
     "metadata": {},
     "output_type": "execute_result"
    }
   ],
   "source": [
    "data2"
   ]
  },
  {
   "cell_type": "code",
   "execution_count": 42,
   "id": "3a765a85",
   "metadata": {},
   "outputs": [],
   "source": [
    "import re # regular expression library\n",
    "# # %% supprimer les mots non importants a, the, that, and, in \n",
    "import nltk as nlp\n",
    "# nlp.download(\"stopwords\")  # stopwords = (les mots non pertinents)\n",
    "from nltk.corpus import stopwords "
   ]
  },
  {
   "cell_type": "code",
   "execution_count": 43,
   "id": "9efb0d22",
   "metadata": {},
   "outputs": [],
   "source": [
    "# créer un modéle bag of words\n",
    "from sklearn.feature_extraction.text import CountVectorizer \n",
    "max_features = 150 # max_features la réduction dimension\n",
    "count_vectorizer = CountVectorizer(stop_words = \"english\",max_features = max_features)  \n",
    "# stop_words parameter :  automatiquement supprime les mots non pertinent\n",
    "# token_pattern supprime les autres caractéres comme .. !"
   ]
  },
  {
   "cell_type": "code",
   "execution_count": 44,
   "id": "fd4994b5",
   "metadata": {},
   "outputs": [
    {
     "name": "stdout",
     "output_type": "stream",
     "text": [
      "Les mots extraites : ['10' '14' '15' '16' '17' '18' '19' '20' '2015' '__' 'account' 'art'\n",
      " 'artist' 'author' 'based' 'beautiful' 'best' 'better' 'big' 'blog'\n",
      " 'blogger' 'book' 'books' 'born' 'business' 'check' 'city' 'com'\n",
      " 'community' 'continuous' 'dad' 'day' 'design' 'designer' 'digital'\n",
      " 'director' 'don' 'editor' 'email' 'enthusiast' 'events' 'family' 'fan'\n",
      " 'fashion' 'father' 'follow' 'food' 'football' 'founder' 'free' 'friend'\n",
      " 'friends' 'fun' 'game' 'gamer' 'games' 'girl' 'gmail' 'god' 'good' 'got'\n",
      " 'great' 'happy' 'hard' 'health' 'heart' 'help' 'high' 'home' 'http'\n",
      " 'https' 'husband' 'ig' 'im' 'instagram' 'internet' 'just' 'know' 'latest'\n",
      " 'life' 'like' 'little' 'live' 'living' 'll' 'love' 'lover' 'loves' 'make'\n",
      " 'man' 'marketing' 'media' 'member' 'mind' 'mom' 'music' 'need' 'new'\n",
      " 'news' 'official' 'old' 'online' 'owner' 'page' 'people' 'personal'\n",
      " 'photographer' 'play' 'politics' 'price' 'professional' 'proud' 'radio'\n",
      " 'real' 'right' 'say' 'sc' 'school' 'snapchat' 'social' 'sports' 'state'\n",
      " 'student' 'stuff' 'talk' 'team' 'tech' 'technology' 'things' 'time'\n",
      " 'travel' 'tv' 'tweet' 'tweets' 'twitter' 'uk' 'university' 'updates'\n",
      " 'video' 'views' 'want' 'way' 'wife' 'work' 'world' 'writer' 'year'\n",
      " 'years' 'ªá' 'êû']\n",
      "La matrice BOW présente sous la forme suivante :\n",
      "[[0 0 0 ... 0 0 0]\n",
      " [0 0 0 ... 0 0 0]\n",
      " [0 0 0 ... 0 0 0]\n",
      " ...\n",
      " [0 0 0 ... 0 0 0]\n",
      " [0 0 0 ... 0 0 0]\n",
      " [0 0 0 ... 0 0 0]]\n"
     ]
    }
   ],
   "source": [
    "# Convertir la colonne 'description' en une liste\n",
    "description_list = data2['description'].tolist()\n",
    "\n",
    "BOW_matrix1 = count_vectorizer.fit_transform(description_list).toarray()\n",
    "\n",
    "# Afficher les mots extraites\n",
    "features=count_vectorizer.get_feature_names_out()\n",
    "print(\"Les mots extraites :\", features )\n",
    "\n",
    "# Afficher la matrice BOW \n",
    "print(\"La matrice BOW présente sous la forme suivante :\")\n",
    "print(BOW_matrix1)"
   ]
  },
  {
   "cell_type": "code",
   "execution_count": 48,
   "id": "fe6e591f",
   "metadata": {},
   "outputs": [
    {
     "data": {
      "image/png": "[encoded data removed]",
      "text/plain": [
       "<Figure size 1000x500 with 1 Axes>"
      ]
     },
     "metadata": {},
     "output_type": "display_data"
    }
   ],
   "source": [
    "from wordcloud import WordCloud\n",
    "import matplotlib.pyplot as plt\n",
    "\n",
    "# Convertir la colonne 'description' en une seule chaîne\n",
    "texte_complet = ' '.join(data2['description'].astype(str))\n",
    "\n",
    "# Créer un objet WordCloud\n",
    "wordcloud = WordCloud(width=800, height=400, background_color='white', max_words=10).generate(texte_complet)\n",
    "\n",
    "# Afficher le nuage de mots\n",
    "plt.figure(figsize=(10, 5))\n",
    "plt.imshow(wordcloud, interpolation='bilinear')\n",
    "plt.axis('off')\n",
    "plt.show()"
   ]
  },
  {
   "cell_type": "code",
   "execution_count": 17,
   "id": "76201421",
   "metadata": {},
   "outputs": [
    {
     "data": {
      "text/plain": [
       "array([0, 0, 0, ..., 0, 1, 1], dtype=int64)"
      ]
     },
     "execution_count": 17,
     "metadata": {},
     "output_type": "execute_result"
    }
   ],
   "source": [
    "y = data2.iloc[:,0].values\n",
    "y"
   ]
  },
  {
   "cell_type": "code",
   "execution_count": 14,
   "id": "d25eceb2",
   "metadata": {},
   "outputs": [],
   "source": [
    "# train test split (70% échantillion d'entrenement  et 30% échantillion de test )\n",
    "from sklearn.model_selection import train_test_split\n",
    "\n",
    "x_train, x_test, y_train, y_test = train_test_split(BOW_matrix1,y,test_size = 0.3,random_state = 0)"
   ]
  },
  {
   "cell_type": "markdown",
   "id": "7b01939e",
   "metadata": {},
   "source": [
    "## Algorithme bayésien naïf"
   ]
  },
  {
   "cell_type": "raw",
   "id": "b5eea5ac",
   "metadata": {},
   "source": [
    "NBA est un algorithme de classification basé sur le théorème bayésien, avec l’hypothèse de l’indépendance de la caractéristique. L’avantage de ce classificateur ? Un faible volume de données suffit pour l’entraînement du modèle, l’estimation des paramètres et la classification.\n",
    "\n",
    "La plupart des solutions NLP utilisent la méthode du maximum de vraisemblance pour estimer les paramètres des modèles bayésiens naïfs."
   ]
  },
  {
   "cell_type": "code",
   "execution_count": 15,
   "id": "1445dacf",
   "metadata": {},
   "outputs": [
    {
     "data": {
      "text/html": [
       "<style>#sk-container-id-1 {color: black;}#sk-container-id-1 pre{padding: 0;}#sk-container-id-1 div.sk-toggleable {background-color: white;}#sk-container-id-1 label.sk-toggleable__label {cursor: pointer;display: block;width: 100%;margin-bottom: 0;padding: 0.3em;box-sizing: border-box;text-align: center;}#sk-container-id-1 label.sk-toggleable__label-arrow:before {content: \"▸\";float: left;margin-right: 0.25em;color: #696969;}#sk-container-id-1 label.sk-toggleable__label-arrow:hover:before {color: black;}#sk-container-id-1 div.sk-estimator:hover label.sk-toggleable__label-arrow:before {color: black;}#sk-container-id-1 div.sk-toggleable__content {max-height: 0;max-width: 0;overflow: hidden;text-align: left;background-color: #f0f8ff;}#sk-container-id-1 div.sk-toggleable__content pre {margin: 0.2em;color: black;border-radius: 0.25em;background-color: #f0f8ff;}#sk-container-id-1 input.sk-toggleable__control:checked~div.sk-toggleable__content {max-height: 200px;max-width: 100%;overflow: auto;}#sk-container-id-1 input.sk-toggleable__control:checked~label.sk-toggleable__label-arrow:before {content: \"▾\";}#sk-container-id-1 div.sk-estimator input.sk-toggleable__control:checked~label.sk-toggleable__label {background-color: #d4ebff;}#sk-container-id-1 div.sk-label input.sk-toggleable__control:checked~label.sk-toggleable__label {background-color: #d4ebff;}#sk-container-id-1 input.sk-hidden--visually {border: 0;clip: rect(1px 1px 1px 1px);clip: rect(1px, 1px, 1px, 1px);height: 1px;margin: -1px;overflow: hidden;padding: 0;position: absolute;width: 1px;}#sk-container-id-1 div.sk-estimator {font-family: monospace;background-color: #f0f8ff;border: 1px dotted black;border-radius: 0.25em;box-sizing: border-box;margin-bottom: 0.5em;}#sk-container-id-1 div.sk-estimator:hover {background-color: #d4ebff;}#sk-container-id-1 div.sk-parallel-item::after {content: \"\";width: 100%;border-bottom: 1px solid gray;flex-grow: 1;}#sk-container-id-1 div.sk-label:hover label.sk-toggleable__label {background-color: #d4ebff;}#sk-container-id-1 div.sk-serial::before {content: \"\";position: absolute;border-left: 1px solid gray;box-sizing: border-box;top: 0;bottom: 0;left: 50%;z-index: 0;}#sk-container-id-1 div.sk-serial {display: flex;flex-direction: column;align-items: center;background-color: white;padding-right: 0.2em;padding-left: 0.2em;position: relative;}#sk-container-id-1 div.sk-item {position: relative;z-index: 1;}#sk-container-id-1 div.sk-parallel {display: flex;align-items: stretch;justify-content: center;background-color: white;position: relative;}#sk-container-id-1 div.sk-item::before, #sk-container-id-1 div.sk-parallel-item::before {content: \"\";position: absolute;border-left: 1px solid gray;box-sizing: border-box;top: 0;bottom: 0;left: 50%;z-index: -1;}#sk-container-id-1 div.sk-parallel-item {display: flex;flex-direction: column;z-index: 1;position: relative;background-color: white;}#sk-container-id-1 div.sk-parallel-item:first-child::after {align-self: flex-end;width: 50%;}#sk-container-id-1 div.sk-parallel-item:last-child::after {align-self: flex-start;width: 50%;}#sk-container-id-1 div.sk-parallel-item:only-child::after {width: 0;}#sk-container-id-1 div.sk-dashed-wrapped {border: 1px dashed gray;margin: 0 0.4em 0.5em 0.4em;box-sizing: border-box;padding-bottom: 0.4em;background-color: white;}#sk-container-id-1 div.sk-label label {font-family: monospace;font-weight: bold;display: inline-block;line-height: 1.2em;}#sk-container-id-1 div.sk-label-container {text-align: center;}#sk-container-id-1 div.sk-container {/* jupyter's `normalize.less` sets `[hidden] { display: none; }` but bootstrap.min.css set `[hidden] { display: none !important; }` so we also need the `!important` here to be able to override the default hidden behavior on the sphinx rendered scikit-learn.org. See: https://github.com/scikit-learn/scikit-learn/issues/21755 */display: inline-block !important;position: relative;}#sk-container-id-1 div.sk-text-repr-fallback {display: none;}</style><div id=\"sk-container-id-1\" class=\"sk-top-container\"><div class=\"sk-text-repr-fallback\"><pre>GaussianNB()</pre><b>In a Jupyter environment, please rerun this cell to show the HTML representation or trust the notebook. <br />On GitHub, the HTML representation is unable to render, please try loading this page with nbviewer.org.</b></div><div class=\"sk-container\" hidden><div class=\"sk-item\"><div class=\"sk-estimator sk-toggleable\"><input class=\"sk-toggleable__control sk-hidden--visually\" id=\"sk-estimator-id-1\" type=\"checkbox\" checked><label for=\"sk-estimator-id-1\" class=\"sk-toggleable__label sk-toggleable__label-arrow\">GaussianNB</label><div class=\"sk-toggleable__content\"><pre>GaussianNB()</pre></div></div></div></div></div>"
      ],
      "text/plain": [
       "GaussianNB()"
      ]
     },
     "execution_count": 15,
     "metadata": {},
     "output_type": "execute_result"
    }
   ],
   "source": [
    "from sklearn.naive_bayes import GaussianNB\n",
    "nb = GaussianNB()\n",
    "nb.fit(BOW_matrix1,y)"
   ]
  },
  {
   "cell_type": "code",
   "execution_count": 16,
   "id": "8174cc83",
   "metadata": {},
   "outputs": [
    {
     "name": "stdout",
     "output_type": "stream",
     "text": [
      "[1 1 1 ... 1 1 1]\n"
     ]
    }
   ],
   "source": [
    "# Prédire le genre  \n",
    "y_pred = nb.predict(BOW_matrix1)\n",
    "print(y_pred)"
   ]
  },
  {
   "cell_type": "code",
   "execution_count": 17,
   "id": "df170c7b",
   "metadata": {},
   "outputs": [
    {
     "name": "stdout",
     "output_type": "stream",
     "text": [
      "(M, Mme) : (5033, 11191)\n"
     ]
    }
   ],
   "source": [
    "count_zeros = np.count_nonzero(y_pred == 0)\n",
    "count_ones = np.count_nonzero(y_pred == 1)\n",
    "print(\"(M, Mme) :\",(count_zeros, count_ones))"
   ]
  },
  {
   "cell_type": "code",
   "execution_count": 18,
   "id": "c5487c19",
   "metadata": {},
   "outputs": [
    {
     "data": {
      "text/plain": [
       "array([[4187, 6312],\n",
       "       [ 846, 4879]], dtype=int64)"
      ]
     },
     "execution_count": 18,
     "metadata": {},
     "output_type": "execute_result"
    }
   ],
   "source": [
    "# Matrice de confusion\n",
    "from sklearn.metrics import confusion_matrix, roc_curve, auc\n",
    "Matrice_Confusion = confusion_matrix(y, y_pred)\n",
    "Matrice_Confusion"
   ]
  },
  {
   "cell_type": "code",
   "execution_count": 19,
   "id": "8e1dcdc6",
   "metadata": {},
   "outputs": [
    {
     "data": {
      "image/png": "[encoded data removed]",
      "text/plain": [
       "<Figure size 500x500 with 2 Axes>"
      ]
     },
     "metadata": {},
     "output_type": "display_data"
    }
   ],
   "source": [
    "f,ax = plt.subplots(figsize=(5,5))\n",
    "sns.heatmap(Matrice_Confusion, annot=True, linewidths=0.5,linecolor=\"red\", fmt='d',ax=ax)\n",
    "plt.show()"
   ]
  },
  {
   "cell_type": "code",
   "execution_count": 20,
   "id": "18021fd7",
   "metadata": {},
   "outputs": [
    {
     "name": "stdout",
     "output_type": "stream",
     "text": [
      "Aire sous la courbe ROC (AUC) : 0.63\n"
     ]
    }
   ],
   "source": [
    "# Calculer les taux de faux positifs, les taux de vrais positifs et les seuils de décision\n",
    "fpr, tpr, thresholds = roc_curve(y, y_pred)\n",
    "# Calculer l'aire sous la courbe ROC (AUC)\n",
    "roc_auc = auc(fpr, tpr)\n",
    "print(\"Aire sous la courbe ROC (AUC) :\", round(roc_auc,2))"
   ]
  },
  {
   "cell_type": "code",
   "execution_count": 21,
   "id": "5811a069",
   "metadata": {},
   "outputs": [
    {
     "data": {
      "image/png": "[encoded data removed]",
      "text/plain": [
       "<Figure size 500x500 with 1 Axes>"
      ]
     },
     "metadata": {},
     "output_type": "display_data"
    }
   ],
   "source": [
    "# Tracer la courbe ROC\n",
    "plt.figure(figsize=(5,5))\n",
    "plt.plot(fpr, tpr, color='darkorange', lw=2, label='Courbe ROC (AUC = %0.2f)' % roc_auc)\n",
    "plt.plot([0, 1], [0, 1], color='navy', lw=2, linestyle='--')\n",
    "plt.xlabel('Taux de Faux Positifs')\n",
    "plt.ylabel('Taux de Vrais Positifs')\n",
    "plt.title('Courbe ROC')\n",
    "plt.legend(loc=\"lower right\")\n",
    "plt.show()"
   ]
  },
  {
   "cell_type": "raw",
   "id": "2519e667",
   "metadata": {},
   "source": [
    "# Interprétation\n",
    "# AUC : La valeur de 0.63 indique une capacité de discrimination moyenne. Donc elle ne  répond pas aux attents et elle peut juste faire une bonne prédiction aléatoire.\n",
    "# Courbe ROC : Plus la courbe ROC est proche du coin supérieur gauche, plus l'AUC est proche de 1, indiquant une meilleure performance.\n",
    "\n",
    "# On cherche à améliorer cet indicateur en utilisant le modéle RNN (Réseaux de Neurones Récurrents)"
   ]
  },
  {
   "cell_type": "markdown",
   "id": "2ad19da9",
   "metadata": {},
   "source": [
    "## RNN"
   ]
  },
  {
   "cell_type": "code",
   "execution_count": 109,
   "id": "9523d126",
   "metadata": {},
   "outputs": [
    {
     "data": {
      "text/html": [
       "<img src=\"https://www.tensorflow.org/static/text/tutorials/images/bidirectional.png\"/>"
      ],
      "text/plain": [
       "<IPython.core.display.Image object>"
      ]
     },
     "execution_count": 109,
     "metadata": {},
     "output_type": "execute_result"
    }
   ],
   "source": [
    "# Principe RNN :\n",
    "\n",
    "from IPython.display import Image\n",
    "\n",
    "# Spécifiez l'URL de votre image en ligne\n",
    "url_image = \"https://www.tensorflow.org/static/text/tutorials/images/bidirectional.png\"\n",
    "\n",
    "# Affichez l'image\n",
    "Image(url=url_image)"
   ]
  },
  {
   "cell_type": "code",
   "execution_count": 18,
   "id": "64ba4420",
   "metadata": {},
   "outputs": [
    {
     "name": "stdout",
     "output_type": "stream",
     "text": [
      "Epoch 1/10\n",
      "355/355 [==============================] - 60s 148ms/step - loss: 0.6529 - accuracy: 0.6434 - val_loss: 0.6499 - val_accuracy: 0.6549\n",
      "Epoch 2/10\n",
      "355/355 [==============================] - 50s 141ms/step - loss: 0.6523 - accuracy: 0.6438 - val_loss: 0.6462 - val_accuracy: 0.6549\n",
      "Epoch 3/10\n",
      "355/355 [==============================] - 50s 141ms/step - loss: 0.6519 - accuracy: 0.6438 - val_loss: 0.6446 - val_accuracy: 0.6549\n",
      "Epoch 4/10\n",
      "355/355 [==============================] - 50s 140ms/step - loss: 0.6518 - accuracy: 0.6438 - val_loss: 0.6444 - val_accuracy: 0.6549\n",
      "Epoch 5/10\n",
      "355/355 [==============================] - 50s 140ms/step - loss: 0.6518 - accuracy: 0.6438 - val_loss: 0.6449 - val_accuracy: 0.6549\n",
      "Epoch 6/10\n",
      "355/355 [==============================] - 52s 146ms/step - loss: 0.6519 - accuracy: 0.6438 - val_loss: 0.6450 - val_accuracy: 0.6549\n",
      "Epoch 7/10\n",
      "355/355 [==============================] - 50s 141ms/step - loss: 0.6518 - accuracy: 0.6438 - val_loss: 0.6447 - val_accuracy: 0.6549\n",
      "Epoch 8/10\n",
      "355/355 [==============================] - 50s 141ms/step - loss: 0.6515 - accuracy: 0.6438 - val_loss: 0.6460 - val_accuracy: 0.6549\n",
      "Epoch 9/10\n",
      "355/355 [==============================] - 50s 141ms/step - loss: 0.6515 - accuracy: 0.6438 - val_loss: 0.6447 - val_accuracy: 0.6549\n",
      "Epoch 10/10\n",
      "355/355 [==============================] - 50s 141ms/step - loss: 0.6517 - accuracy: 0.6438 - val_loss: 0.6455 - val_accuracy: 0.6549\n"
     ]
    },
    {
     "data": {
      "text/plain": [
       "<keras.callbacks.History at 0x20e949482d0>"
      ]
     },
     "execution_count": 18,
     "metadata": {},
     "output_type": "execute_result"
    }
   ],
   "source": [
    "import tensorflow as tf\n",
    "from tensorflow.keras.models import Sequential\n",
    "from tensorflow.keras.layers import Embedding, LSTM, Dense\n",
    "from tensorflow.keras.preprocessing.text import Tokenizer\n",
    "from tensorflow.keras.preprocessing.sequence import pad_sequences\n",
    "from sklearn.model_selection import train_test_split\n",
    "\n",
    "# Exemple de données d'entraînement (remplacez cela par vos données réelles)\n",
    "texts = description_list\n",
    "\n",
    "\n",
    "# Tokenization\n",
    "max_words = 1000  # Nombre maximal de mots à considérer\n",
    "tokenizer = Tokenizer(num_words=max_words, oov_token=\"<OOV>\")\n",
    "tokenizer.fit_on_texts(texts)\n",
    "word_index = tokenizer.word_index\n",
    "\n",
    "# Convertir le texte en séquences d'indices\n",
    "sequences = tokenizer.texts_to_sequences(texts)\n",
    "\n",
    "# Rembourrage pour que toutes les séquences aient la même longueur\n",
    "max_sequence_length = 100\n",
    "data = pad_sequences(sequences, maxlen=max_sequence_length, padding='post')\n",
    "\n",
    "# Création des ensembles d'entraînement et de test\n",
    "X_train, X_test, y_train, y_test = train_test_split(data, y, test_size=0.3, random_state=42)\n",
    "\n",
    "# Construction du modèle RNN\n",
    "embedding_dim = 50  # Dimension de l'espace d'embedding\n",
    "model = Sequential([\n",
    "    Embedding(input_dim=max_words, output_dim=embedding_dim, input_length=max_sequence_length),\n",
    "    LSTM(units=100),\n",
    "    Dense(units=1, activation='sigmoid')  # Pour la classification binaire\n",
    "])\n",
    "\n",
    "# Compilation du modèle\n",
    "model.compile(optimizer='adam', loss='binary_crossentropy', metrics=['accuracy'])\n",
    "\n",
    "# Entraînement du modèle\n",
    "model.fit(X_train, y_train, epochs=10, batch_size=32, validation_data=(X_test, y_test))"
   ]
  },
  {
   "cell_type": "code",
   "execution_count": 23,
   "id": "48655df5",
   "metadata": {},
   "outputs": [
    {
     "name": "stdout",
     "output_type": "stream",
     "text": [
      "153/153 [==============================] - 7s 44ms/step\n",
      "Aire sous la courbe ROC (AUC) pour le modèle RNN : 0.5\n"
     ]
    }
   ],
   "source": [
    "\n",
    "# Prédiction \n",
    "y_pred = model.predict(X_test)\n",
    "\n",
    "# Calculez l'AUC à partir des scores de décision et des vraies étiquettes\n",
    "auc_rnn = roc_auc_score(y_test, y_pred)\n",
    "print(\"Aire sous la courbe ROC (AUC) pour le modèle RNN :\", round(auc_rnn, 2))"
   ]
  },
  {
   "cell_type": "raw",
   "id": "ab3411ba",
   "metadata": {},
   "source": [
    "# Interprétation\n",
    "# l'AUC est de 0.5, le modèle RNN ne montre pas de capacité de discrimination significative."
   ]
  },
  {
   "cell_type": "markdown",
   "id": "c371aad5",
   "metadata": {},
   "source": [
    "## SVM"
   ]
  },
  {
   "cell_type": "code",
   "execution_count": 24,
   "id": "e9307ed0",
   "metadata": {},
   "outputs": [
    {
     "data": {
      "text/html": [
       "<img src=\"https://d33wubrfki0l68.cloudfront.net/2ac98039debc354e2d98355cce12836a393477ad/c352e/static/e7ec71eb361bf75bd69d70124a62fe75/4653c/svm-best_hyperplane.png\"/>"
      ],
      "text/plain": [
       "<IPython.core.display.Image object>"
      ]
     },
     "execution_count": 24,
     "metadata": {},
     "output_type": "execute_result"
    }
   ],
   "source": [
    "# Principe SVM\n",
    "from IPython.display import Image\n",
    "\n",
    "# Spécifiez l'URL de votre image en ligne\n",
    "url_image = \"https://d33wubrfki0l68.cloudfront.net/2ac98039debc354e2d98355cce12836a393477ad/c352e/static/e7ec71eb361bf75bd69d70124a62fe75/4653c/svm-best_hyperplane.png\"\n",
    "\n",
    "# Affichez l'image\n",
    "Image(url=url_image)\n"
   ]
  },
  {
   "cell_type": "code",
   "execution_count": 27,
   "id": "9688f263",
   "metadata": {},
   "outputs": [
    {
     "name": "stdout",
     "output_type": "stream",
     "text": [
      "Accuracy: 0.6723500410846344\n",
      "Confusion Matrix:\n",
      "[[3040  148]\n",
      " [1447  233]]\n",
      "Classification Report:\n",
      "              precision    recall  f1-score   support\n",
      "\n",
      "           0       0.68      0.95      0.79      3188\n",
      "           1       0.61      0.14      0.23      1680\n",
      "\n",
      "    accuracy                           0.67      4868\n",
      "   macro avg       0.64      0.55      0.51      4868\n",
      "weighted avg       0.65      0.67      0.60      4868\n",
      "\n"
     ]
    }
   ],
   "source": [
    "import numpy as np\n",
    "from sklearn.model_selection import train_test_split\n",
    "from sklearn.svm import SVC\n",
    "from sklearn.metrics import accuracy_score, classification_report, confusion_matrix, roc_auc_score\n",
    "from sklearn.feature_extraction.text import CountVectorizer\n",
    "\n",
    "\n",
    "# Divisez les données en ensembles d'entraînement et de test\n",
    "X_train, X_test, y_train, y_test = train_test_split(BOW_matrix1, y, test_size=0.3, random_state=42)\n",
    "\n",
    "# Créez un classificateur SVM\n",
    "svm_classifier = SVC(kernel='linear', C=1.0)  # Vous pouvez ajuster les hyperparamètres selon votre besoin\n",
    "\n",
    "# Entraînez le modèle sur les données d'entraînement\n",
    "svm_classifier.fit(X_train, y_train)\n",
    "\n",
    "# Faites des prédictions sur les données de test\n",
    "y_pred = svm_classifier.predict(X_test)\n",
    "\n",
    "# Évaluez la performance du modèle\n",
    "accuracy = accuracy_score(y_test, y_pred)\n",
    "conf_matrix = confusion_matrix(y_test, y_pred)\n",
    "classification_rep = classification_report(y_test, y_pred)\n",
    "\n",
    "# Affichez les résultats\n",
    "print(f\"Accuracy: {accuracy}\")\n",
    "print(\"Confusion Matrix:\")\n",
    "print(conf_matrix)\n",
    "print(\"Classification Report:\")\n",
    "print(classification_rep)\n"
   ]
  },
  {
   "cell_type": "code",
   "execution_count": 29,
   "id": "3b9a3182",
   "metadata": {},
   "outputs": [
    {
     "name": "stdout",
     "output_type": "stream",
     "text": [
      "Aire sous la courbe ROC (AUC) : 0.67\n"
     ]
    }
   ],
   "source": [
    "y_prob = svm_classifier.decision_function(X_test)\n",
    "\n",
    "# Calculez l'AUC à partir des scores de décision et des vraies étiquettes\n",
    "auc = roc_auc_score(y_test, y_prob)\n",
    "print(\"Aire sous la courbe ROC (AUC) :\", round(auc,2))"
   ]
  },
  {
   "cell_type": "raw",
   "id": "54a8f6c3",
   "metadata": {},
   "source": [
    "# Interprétation\n",
    "# Nous observons une augmentation de la valeur de l'AUC, passant de 0,63 à 0,67, ce qui suggère une capacité de discrimination acceptable. Ainsi, le modèle SVM démontre une performance supérieure par rapport aux modèles Naive Bayes et RNN."
   ]
  },
  {
   "cell_type": "markdown",
   "id": "c29fd751",
   "metadata": {},
   "source": [
    "## XGBoost"
   ]
  },
  {
   "cell_type": "code",
   "execution_count": 30,
   "id": "0e03e5b7",
   "metadata": {},
   "outputs": [
    {
     "data": {
      "text/html": [
       "<img src=\"https://www.researchgate.net/profile/Sohaib-Nazar-3/publication/362325316/figure/fig2/AS:1183052432703488@1659073088050/XGBoost-extreme-gradient-boosting-algorithm-structure-31.png\"/>"
      ],
      "text/plain": [
       "<IPython.core.display.Image object>"
      ]
     },
     "execution_count": 30,
     "metadata": {},
     "output_type": "execute_result"
    }
   ],
   "source": [
    "# Principe XGBoost\n",
    "from IPython.display import Image\n",
    "\n",
    "# Spécifiez l'URL de votre image en ligne\n",
    "url_image = \"https://www.researchgate.net/profile/Sohaib-Nazar-3/publication/362325316/figure/fig2/AS:1183052432703488@1659073088050/XGBoost-extreme-gradient-boosting-algorithm-structure-31.png\"\n",
    "\n",
    "# Affichez l'image\n",
    "Image(url=url_image)"
   ]
  },
  {
   "cell_type": "code",
   "execution_count": 33,
   "id": "c8883aab",
   "metadata": {},
   "outputs": [
    {
     "name": "stdout",
     "output_type": "stream",
     "text": [
      "Confusion Matrix:\n",
      "[[2933  255]\n",
      " [1345  335]]\n",
      "Aire sous la courbe ROC (AUC) : 0.68\n"
     ]
    }
   ],
   "source": [
    "from sklearn.model_selection import train_test_split\n",
    "from xgboost import XGBClassifier\n",
    "from sklearn.metrics import roc_auc_score, confusion_matrix\n",
    "\n",
    "# Divisez les données en ensembles d'entraînement et de test\n",
    "X_train, X_test, y_train, y_test = train_test_split(BOW_matrix1, y, test_size=0.3, random_state=42)\n",
    "\n",
    "# Créez un classificateur XGBoost\n",
    "xgb_classifier = XGBClassifier()\n",
    "\n",
    "# Entraînez le modèle sur les données d'entraînement\n",
    "xgb_classifier.fit(X_train, y_train)\n",
    "\n",
    "# Faites des prédictions de probabilité sur les données de test\n",
    "y_prob = xgb_classifier.predict_proba(X_test)[:, 1]\n",
    "\n",
    "# Obtenez les prédictions de classe (0 ou 1)\n",
    "y_pred = xgb_classifier.predict(X_test)\n",
    "\n",
    "# Calculez la matrice de confusion\n",
    "conf_matrix1 = confusion_matrix(y_test, y_pred)\n",
    "\n",
    "# Calculez l'AUC à partir des probabilités prédites et des vraies étiquettes\n",
    "auc1 = roc_auc_score(y_test, y_prob)\n",
    "\n",
    "# Affichez la matrice de confusion et l'AUC\n",
    "print(\"Confusion Matrix:\")\n",
    "print(conf_matrix1)\n",
    "# Calculez l'AUC à partir des scores de décision et des vraies étiquettes\n",
    "print(\"Aire sous la courbe ROC (AUC) :\", round(auc1,2))\n"
   ]
  },
  {
   "cell_type": "raw",
   "id": "2708b960",
   "metadata": {},
   "source": [
    "# Interprétation\n",
    "# Nous observons une augmentation de la valeur de l'AUC, passant de 0,63 à 0,68, ce qui indique une capacité de discrimination acceptable. Ainsi, le modèle XGBoost affiche une performances supérieure par rapport aux modèles Naive Bayes,RNN et SVM."
   ]
  },
  {
   "cell_type": "markdown",
   "id": "ce6dc902",
   "metadata": {},
   "source": [
    "# Synthése"
   ]
  },
  {
   "cell_type": "code",
   "execution_count": 31,
   "id": "1704ad2d",
   "metadata": {},
   "outputs": [
    {
     "name": "stdout",
     "output_type": "stream",
     "text": [
      "+-------------+------+\n",
      "|    Modèle   | AUC  |\n",
      "+-------------+------+\n",
      "|   \u001b[34mXGBoost\u001b[0m   | \u001b[34m0.68\u001b[0m |\n",
      "|     SVM     | 0.67 |\n",
      "| Naive Bayes | 0.63 |\n",
      "|     \u001b[31mRNN\u001b[0m     | \u001b[31m0.5\u001b[0m  |\n",
      "+-------------+------+\n"
     ]
    }
   ],
   "source": [
    "from prettytable import PrettyTable\n",
    "from colorama import Fore, Style\n",
    "\n",
    "# Créer un tableau\n",
    "table = PrettyTable()\n",
    "\n",
    "# Ajouter des colonnes\n",
    "table.field_names = [\"Modèle\", \"AUC\"]\n",
    "\n",
    "# Ajouter des données avec XGBoost en rouge\n",
    "table.add_row([f\"{Fore.BLUE}XGBoost{Style.RESET_ALL}\", f\"{Fore.BLUE}0.68{Style.RESET_ALL}\"])\n",
    "table.add_row([\"SVM\", 0.67])\n",
    "table.add_row([\"Naive Bayes\", 0.63])\n",
    "table.add_row([f\"{Fore.RED}RNN{Style.RESET_ALL}\", f\"{Fore.RED}0.5{Style.RESET_ALL}\"])\n",
    "\n",
    "# Afficher le tableau\n",
    "print(table)"
   ]
  },
  {
   "cell_type": "markdown",
   "id": "566c884c",
   "metadata": {},
   "source": [
    "# LDA (Latent Dirichlet Allocation) : Analyse des sujets des textes"
   ]
  },
  {
   "cell_type": "raw",
   "id": "05060587",
   "metadata": {},
   "source": [
    "# Allocation de Dirichlet latente est un modèle probabiliste qui attribue des sujets à des documents et des mots à des sujets.\n",
    "Utile pour découvrir des thèmes latents dans une collection de documents. "
   ]
  },
  {
   "cell_type": "code",
   "execution_count": 49,
   "id": "c9ae5c78",
   "metadata": {},
   "outputs": [
    {
     "name": "stderr",
     "output_type": "stream",
     "text": [
      "[nltk_data] Downloading package punkt to\n",
      "[nltk_data]     C:\\Users\\Mus\\AppData\\Roaming\\nltk_data...\n",
      "[nltk_data]   Package punkt is already up-to-date!\n",
      "[nltk_data] Downloading package stopwords to\n",
      "[nltk_data]     C:\\Users\\Mus\\AppData\\Roaming\\nltk_data...\n",
      "[nltk_data]   Package stopwords is already up-to-date!\n",
      "[nltk_data] Downloading package wordnet to\n",
      "[nltk_data]     C:\\Users\\Mus\\AppData\\Roaming\\nltk_data...\n",
      "[nltk_data]   Package wordnet is already up-to-date!\n"
     ]
    },
    {
     "data": {
      "text/plain": [
       "True"
      ]
     },
     "execution_count": 49,
     "metadata": {},
     "output_type": "execute_result"
    }
   ],
   "source": [
    "from gensim import corpora\n",
    "from gensim.models import LdaModel\n",
    "from nltk.tokenize import word_tokenize\n",
    "from nltk.corpus import stopwords\n",
    "from nltk.stem import WordNetLemmatizer\n",
    "import string\n",
    "import nltk\n",
    "nltk.download('punkt')\n",
    "nltk.download('stopwords')\n",
    "nltk.download('wordnet')"
   ]
  },
  {
   "cell_type": "code",
   "execution_count": 50,
   "id": "ac7a71fd",
   "metadata": {},
   "outputs": [],
   "source": [
    "# Fonction de prétraitement du texte\n",
    "def preprocess_text(text):\n",
    "    # Tokenisation\n",
    "    tokens = word_tokenize(text.lower())\n",
    "    # Suppression de la ponctuation\n",
    "    tokens = [word for word in tokens if word.isalpha()]\n",
    "    # Suppression des stop words\n",
    "    stop_words = set(stopwords.words('english'))\n",
    "    tokens = [word for word in tokens if word not in stop_words]\n",
    "    # Lemmatisation\n",
    "    lemmatizer = WordNetLemmatizer()\n",
    "    tokens = [lemmatizer.lemmatize(word) for word in tokens]\n",
    "    return tokens"
   ]
  },
  {
   "cell_type": "code",
   "execution_count": 51,
   "id": "70a8eddc",
   "metadata": {},
   "outputs": [],
   "source": [
    "# Exemple de documents\n",
    "documents = [\n",
    "    \"Machine learning is fascinating and challenging.\",\n",
    "    \"Natural language processing is a subfield of artificial intelligence.\",\n",
    "    \"Latent Dirichlet Allocation is a probabilistic model.\",\n",
    "    \"Data science involves analyzing and interpreting complex data sets.\",\n",
    "    \"Python is a popular programming language for data science.\",\n",
    "    \"Big data analytics is essential for extracting valuable insights from large datasets.\",\n",
    "    \"Deep learning models are used for tasks such as image recognition and natural language understanding.\",\n",
    "    \"Clustering is a technique used in unsupervised machine learning to group similar data points.\",\n",
    "    \"Text mining is the process of extracting meaningful information from unstructured text.\",\n",
    "    \"Statistical analysis is a key component of data science and decision-making.\" ]"
   ]
  },
  {
   "cell_type": "code",
   "execution_count": 52,
   "id": "aa018574",
   "metadata": {},
   "outputs": [],
   "source": [
    "# Prétraitement des documents\n",
    "processed_documents = [preprocess_text(doc) for doc in documents]\n",
    "\n",
    "# Création d'un dictionnaire à partir des documents\n",
    "dictionary = corpora.Dictionary(processed_documents)\n",
    "\n",
    "# Création du corpus (représentation sous forme de sac de mots)\n",
    "corpus = [dictionary.doc2bow(doc) for doc in processed_documents]"
   ]
  },
  {
   "cell_type": "code",
   "execution_count": 53,
   "id": "0d7ed6c8",
   "metadata": {},
   "outputs": [
    {
     "data": {
      "text/plain": [
       "[['machine', 'learning', 'fascinating', 'challenging'],\n",
       " ['natural',\n",
       "  'language',\n",
       "  'processing',\n",
       "  'subfield',\n",
       "  'artificial',\n",
       "  'intelligence'],\n",
       " ['latent', 'dirichlet', 'allocation', 'probabilistic', 'model'],\n",
       " ['data',\n",
       "  'science',\n",
       "  'involves',\n",
       "  'analyzing',\n",
       "  'interpreting',\n",
       "  'complex',\n",
       "  'data',\n",
       "  'set'],\n",
       " ['python', 'popular', 'programming', 'language', 'data', 'science'],\n",
       " ['big',\n",
       "  'data',\n",
       "  'analytics',\n",
       "  'essential',\n",
       "  'extracting',\n",
       "  'valuable',\n",
       "  'insight',\n",
       "  'large',\n",
       "  'datasets'],\n",
       " ['deep',\n",
       "  'learning',\n",
       "  'model',\n",
       "  'used',\n",
       "  'task',\n",
       "  'image',\n",
       "  'recognition',\n",
       "  'natural',\n",
       "  'language',\n",
       "  'understanding'],\n",
       " ['clustering',\n",
       "  'technique',\n",
       "  'used',\n",
       "  'unsupervised',\n",
       "  'machine',\n",
       "  'learning',\n",
       "  'group',\n",
       "  'similar',\n",
       "  'data',\n",
       "  'point'],\n",
       " ['text',\n",
       "  'mining',\n",
       "  'process',\n",
       "  'extracting',\n",
       "  'meaningful',\n",
       "  'information',\n",
       "  'unstructured',\n",
       "  'text'],\n",
       " ['statistical', 'analysis', 'key', 'component', 'data', 'science']]"
      ]
     },
     "execution_count": 53,
     "metadata": {},
     "output_type": "execute_result"
    }
   ],
   "source": [
    "processed_documents"
   ]
  },
  {
   "cell_type": "code",
   "execution_count": 55,
   "id": "91244a4e",
   "metadata": {},
   "outputs": [
    {
     "data": {
      "text/plain": [
       "[[(0, 1), (1, 1), (2, 1), (3, 1)],\n",
       " [(4, 1), (5, 1), (6, 1), (7, 1), (8, 1), (9, 1)],\n",
       " [(10, 1), (11, 1), (12, 1), (13, 1), (14, 1)],\n",
       " [(15, 1), (16, 1), (17, 2), (18, 1), (19, 1), (20, 1), (21, 1)],\n",
       " [(6, 1), (17, 1), (20, 1), (22, 1), (23, 1), (24, 1)],\n",
       " [(17, 1),\n",
       "  (25, 1),\n",
       "  (26, 1),\n",
       "  (27, 1),\n",
       "  (28, 1),\n",
       "  (29, 1),\n",
       "  (30, 1),\n",
       "  (31, 1),\n",
       "  (32, 1)],\n",
       " [(2, 1),\n",
       "  (6, 1),\n",
       "  (7, 1),\n",
       "  (13, 1),\n",
       "  (33, 1),\n",
       "  (34, 1),\n",
       "  (35, 1),\n",
       "  (36, 1),\n",
       "  (37, 1),\n",
       "  (38, 1)],\n",
       " [(2, 1),\n",
       "  (3, 1),\n",
       "  (17, 1),\n",
       "  (38, 1),\n",
       "  (39, 1),\n",
       "  (40, 1),\n",
       "  (41, 1),\n",
       "  (42, 1),\n",
       "  (43, 1),\n",
       "  (44, 1)],\n",
       " [(29, 1), (45, 1), (46, 1), (47, 1), (48, 1), (49, 2), (50, 1)],\n",
       " [(17, 1), (20, 1), (51, 1), (52, 1), (53, 1), (54, 1)]]"
      ]
     },
     "execution_count": 55,
     "metadata": {},
     "output_type": "execute_result"
    }
   ],
   "source": [
    "corpus"
   ]
  },
  {
   "cell_type": "code",
   "execution_count": 57,
   "id": "8a37b437",
   "metadata": {},
   "outputs": [
    {
     "name": "stdout",
     "output_type": "stream",
     "text": [
      "Topic 0: 0.070*\"data\" + 0.053*\"learning\" + 0.039*\"science\" + 0.038*\"used\" + 0.038*\"machine\" + 0.023*\"model\" + 0.023*\"natural\" + 0.023*\"language\" + 0.023*\"unsupervised\" + 0.023*\"similar\"\n",
      "Topic 1: 0.041*\"language\" + 0.041*\"text\" + 0.041*\"extracting\" + 0.039*\"data\" + 0.024*\"process\" + 0.024*\"large\" + 0.024*\"valuable\" + 0.024*\"meaningful\" + 0.024*\"analytics\" + 0.024*\"unstructured\"\n"
     ]
    }
   ],
   "source": [
    "# Entraînement du modèle LDA\n",
    "lda_model = LdaModel(corpus, num_topics=2, id2word=dictionary, passes=15) # Nombre des sujet = 2\n",
    "\n",
    "# Affichage des sujets découverts\n",
    "for idx, topic in lda_model.print_topics(-1):\n",
    "    print(f'Topic {idx}: {topic}')"
   ]
  },
  {
   "cell_type": "raw",
   "id": "1d80a6db",
   "metadata": {},
   "source": [
    "# Interprétation (Mots clés)\n",
    "\n",
    "# Topic 0 :\n",
    "\n",
    "Nous avons trouvé les mots clés suivants : \"data\", \"learning\", \"science\", \"used\", \"machine\", \"model\", \"natural\", \"language\", \"unsupervised\", \"similar\".\n",
    "Ce sujet semble être centré sur des domaines liés au machine learning, à l'analyse de données, et à des méthodes comme l'apprentissage non supervisé.\n",
    "\n",
    "\n",
    "# Topic 1 :\n",
    "\n",
    "Nous avons obtenu les mots clés suivants : \"language\", \"text\", \"extracting\", \"data\", \"process\", \"large\", \"valuable\", \"meaningful\", \"analytics\", \"unstructured\".\n",
    "Ce sujet semble se concentrer sur des domaines liés au traitement du langage naturel, à l'extraction d'informations à partir de texte, et à l'analyse de données non structurées.\n"
   ]
  },
  {
   "cell_type": "raw",
   "id": "09831d81",
   "metadata": {},
   "source": [
    "# Interprétation (Probabilités)\n",
    "\n",
    "Dans un modèle LDA, les chiffres associés à chaque mot clé dans un sujet représentent les poids ou probabilités de ces mots dans le contexte de ce sujet particulier. \n",
    "\n",
    "Plus précisément chaque terme dans un sujet est pondéré par une probabilité, et ces probabilités sont normalisées, ce qui signifie que la somme des probabilités pour tous les termes dans un sujet donné est égale à 1.\n",
    "\n",
    "Par exemple, le mot \"data\" a une probabilité d'environ 7%, le mot \"learning\" a une probabilité d'environ 5,3%, et ainsi de suite. Ces chiffres quantifient l'importance relative de chaque mot dans un sujet particulier. Plus la probabilité est élevée, plus le mot est probablement représentatif du sujet."
   ]
  },
  {
   "cell_type": "markdown",
   "id": "25937b56",
   "metadata": {},
   "source": [
    "# Régression des textes "
   ]
  },
  {
   "cell_type": "code",
   "execution_count": 72,
   "id": "72e984d2",
   "metadata": {},
   "outputs": [],
   "source": [
    "import pandas as pd\n",
    "from sklearn.model_selection import train_test_split\n",
    "from sklearn.feature_extraction.text import CountVectorizer\n",
    "from sklearn.linear_model import LinearRegression\n",
    "from sklearn.metrics import mean_squared_error, r2_score\n",
    "import matplotlib.pyplot as plt"
   ]
  },
  {
   "cell_type": "code",
   "execution_count": 73,
   "id": "21d426b5",
   "metadata": {},
   "outputs": [
    {
     "name": "stderr",
     "output_type": "stream",
     "text": [
      "C:\\Users\\Mus\\AppData\\Local\\Temp\\ipykernel_3284\\3644232169.py:1: ParserWarning: Falling back to the 'python' engine because the 'c' engine does not support regex separators (separators > 1 char and different from '\\s+' are interpreted as regex); you can avoid this warning by specifying engine='python'.\n",
      "  data3 = pd.read_csv(\"C:/Users/Mus/Desktop/sentiment-analysis.csv\", sep=', ')\n"
     ]
    },
    {
     "data": {
      "text/html": [
       "<div>\n",
       "<style scoped>\n",
       "    .dataframe tbody tr th:only-of-type {\n",
       "        vertical-align: middle;\n",
       "    }\n",
       "\n",
       "    .dataframe tbody tr th {\n",
       "        vertical-align: top;\n",
       "    }\n",
       "\n",
       "    .dataframe thead th {\n",
       "        text-align: right;\n",
       "    }\n",
       "</style>\n",
       "<table border=\"1\" class=\"dataframe\">\n",
       "  <thead>\n",
       "    <tr style=\"text-align: right;\">\n",
       "      <th></th>\n",
       "      <th>\"Text</th>\n",
       "      <th>Sentiment</th>\n",
       "      <th>Source</th>\n",
       "      <th>Date/Time</th>\n",
       "      <th>User ID</th>\n",
       "      <th>Location</th>\n",
       "      <th>Confidence Score\"</th>\n",
       "    </tr>\n",
       "  </thead>\n",
       "  <tbody>\n",
       "    <tr>\n",
       "      <th>0</th>\n",
       "      <td>\"\"\"I love this product!\"\"</td>\n",
       "      <td>Positive</td>\n",
       "      <td>Twitter</td>\n",
       "      <td>2023-06-15 09:23:14</td>\n",
       "      <td>@user123</td>\n",
       "      <td>New York</td>\n",
       "      <td>0.85\"</td>\n",
       "    </tr>\n",
       "    <tr>\n",
       "      <th>1</th>\n",
       "      <td>\"\"\"The service was terrible.\"\"</td>\n",
       "      <td>Negative</td>\n",
       "      <td>Yelp Reviews</td>\n",
       "      <td>2023-06-15 11:45:32</td>\n",
       "      <td>user456</td>\n",
       "      <td>Los Angeles</td>\n",
       "      <td>0.65\"</td>\n",
       "    </tr>\n",
       "    <tr>\n",
       "      <th>2</th>\n",
       "      <td>\"\"\"This movie is amazing!\"\"</td>\n",
       "      <td>Positive</td>\n",
       "      <td>IMDb</td>\n",
       "      <td>2023-06-15 14:10:22</td>\n",
       "      <td>moviefan789</td>\n",
       "      <td>London</td>\n",
       "      <td>0.92\"</td>\n",
       "    </tr>\n",
       "    <tr>\n",
       "      <th>3</th>\n",
       "      <td>\"\"\"I'm so disappointed with their customer sup...</td>\n",
       "      <td>Negative</td>\n",
       "      <td>Online Forum</td>\n",
       "      <td>2023-06-15 17:35:11</td>\n",
       "      <td>forumuser1</td>\n",
       "      <td>Toronto</td>\n",
       "      <td>0.78\"</td>\n",
       "    </tr>\n",
       "    <tr>\n",
       "      <th>4</th>\n",
       "      <td>\"\"\"Just had the best meal of my life!\"\"</td>\n",
       "      <td>Positive</td>\n",
       "      <td>TripAdvisor</td>\n",
       "      <td>2023-06-16 08:50:59</td>\n",
       "      <td>foodie22</td>\n",
       "      <td>Paris</td>\n",
       "      <td>0.88\"</td>\n",
       "    </tr>\n",
       "  </tbody>\n",
       "</table>\n",
       "</div>"
      ],
      "text/plain": [
       "                                               \"Text Sentiment        Source  \\\n",
       "0                          \"\"\"I love this product!\"\"  Positive       Twitter   \n",
       "1                     \"\"\"The service was terrible.\"\"  Negative  Yelp Reviews   \n",
       "2                        \"\"\"This movie is amazing!\"\"  Positive          IMDb   \n",
       "3  \"\"\"I'm so disappointed with their customer sup...  Negative  Online Forum   \n",
       "4            \"\"\"Just had the best meal of my life!\"\"  Positive   TripAdvisor   \n",
       "\n",
       "             Date/Time      User ID     Location Confidence Score\"  \n",
       "0  2023-06-15 09:23:14     @user123     New York             0.85\"  \n",
       "1  2023-06-15 11:45:32      user456  Los Angeles             0.65\"  \n",
       "2  2023-06-15 14:10:22  moviefan789       London             0.92\"  \n",
       "3  2023-06-15 17:35:11   forumuser1      Toronto             0.78\"  \n",
       "4  2023-06-16 08:50:59     foodie22        Paris             0.88\"  "
      ]
     },
     "execution_count": 73,
     "metadata": {},
     "output_type": "execute_result"
    }
   ],
   "source": [
    "data3 = pd.read_csv(\"C:/Users/Mus/Desktop/sentiment-analysis.csv\", sep=', ')\n",
    "data3.head()"
   ]
  },
  {
   "cell_type": "code",
   "execution_count": 78,
   "id": "8325c1c9",
   "metadata": {},
   "outputs": [
    {
     "name": "stdout",
     "output_type": "stream",
     "text": [
      "\n",
      "Après la modification :\n"
     ]
    },
    {
     "data": {
      "text/html": [
       "<div>\n",
       "<style scoped>\n",
       "    .dataframe tbody tr th:only-of-type {\n",
       "        vertical-align: middle;\n",
       "    }\n",
       "\n",
       "    .dataframe tbody tr th {\n",
       "        vertical-align: top;\n",
       "    }\n",
       "\n",
       "    .dataframe thead th {\n",
       "        text-align: right;\n",
       "    }\n",
       "</style>\n",
       "<table border=\"1\" class=\"dataframe\">\n",
       "  <thead>\n",
       "    <tr style=\"text-align: right;\">\n",
       "      <th></th>\n",
       "      <th>Text</th>\n",
       "      <th>Confidence_Score</th>\n",
       "    </tr>\n",
       "  </thead>\n",
       "  <tbody>\n",
       "    <tr>\n",
       "      <th>0</th>\n",
       "      <td>I love this product!</td>\n",
       "      <td>0.85</td>\n",
       "    </tr>\n",
       "    <tr>\n",
       "      <th>1</th>\n",
       "      <td>The service was terrible.</td>\n",
       "      <td>0.65</td>\n",
       "    </tr>\n",
       "    <tr>\n",
       "      <th>2</th>\n",
       "      <td>This movie is amazing!</td>\n",
       "      <td>0.92</td>\n",
       "    </tr>\n",
       "    <tr>\n",
       "      <th>3</th>\n",
       "      <td>I'm so disappointed with their customer support.</td>\n",
       "      <td>0.78</td>\n",
       "    </tr>\n",
       "    <tr>\n",
       "      <th>4</th>\n",
       "      <td>Just had the best meal of my life!</td>\n",
       "      <td>0.88</td>\n",
       "    </tr>\n",
       "  </tbody>\n",
       "</table>\n",
       "</div>"
      ],
      "text/plain": [
       "                                               Text Confidence_Score\n",
       "0                              I love this product!             0.85\n",
       "1                         The service was terrible.             0.65\n",
       "2                            This movie is amazing!             0.92\n",
       "3  I'm so disappointed with their customer support.             0.78\n",
       "4                Just had the best meal of my life!             0.88"
      ]
     },
     "execution_count": 78,
     "metadata": {},
     "output_type": "execute_result"
    }
   ],
   "source": [
    "# Nettoyage des données\n",
    "\n",
    "data3['Text'] = data3['\"Text'].str.replace('\"', '')\n",
    "data3['Confidence_Score']  = data3['Confidence Score\"'].str.replace('\"', '')\n",
    "# Concaténation des colonnes nettoyées\n",
    "data4 = pd.concat([data3.Text, data3.Confidence_Score], axis=1)\n",
    "\n",
    "# Affichez le DataFrame après la modification\n",
    "print(\"\\nAprès la modification :\")\n",
    "data4.head()"
   ]
  },
  {
   "cell_type": "code",
   "execution_count": 83,
   "id": "db73b3e6",
   "metadata": {},
   "outputs": [],
   "source": [
    "# Supprimer les valeurs manquantes (NA)\n",
    "data4.dropna(inplace=True)"
   ]
  },
  {
   "cell_type": "code",
   "execution_count": 87,
   "id": "3093fac4",
   "metadata": {},
   "outputs": [
    {
     "name": "stdout",
     "output_type": "stream",
     "text": [
      "Mean Squared Error (MSE): 0.0038\n",
      "R-squared (R2): 0.72\n"
     ]
    },
    {
     "data": {
      "image/png": "[encoded data removed]",
      "text/plain": [
       "<Figure size 640x480 with 1 Axes>"
      ]
     },
     "metadata": {},
     "output_type": "display_data"
    }
   ],
   "source": [
    "### Séparation des données en ensembles d'entraînement et de test\n",
    "X_train, X_test, y_train, y_test = train_test_split(data4['Text'], data4['Confidence_Score'], test_size=0.3, random_state=42)\n",
    "\n",
    "# Vectorisation des textes en utilisant le modèle de sac de mots (BoW)\n",
    "vectorizer = CountVectorizer()\n",
    "X_train_bow = vectorizer.fit_transform(X_train)\n",
    "X_test_bow = vectorizer.transform(X_test)\n",
    "\n",
    "# Initialisation du modèle de régression linéaire\n",
    "regression_model = LinearRegression()\n",
    "\n",
    "# Entraînement du modèle\n",
    "regression_model.fit(X_train_bow, y_train)\n",
    "\n",
    "# Prédiction sur l'ensemble de test\n",
    "y_pred = regression_model.predict(X_test_bow)\n",
    "\n",
    "# Évaluation du modèle\n",
    "mse = mean_squared_error(y_test, y_pred)\n",
    "r2 = r2_score(y_test, y_pred)\n",
    "\n",
    "print(f'Mean Squared Error (MSE): {round(mse,4)}')\n",
    "print(f'R-squared (R2): {round(r2,2)}')\n",
    "\n",
    "# Visualisation des prédictions par rapport aux valeurs réelles\n",
    "plt.scatter(y_test, y_pred)\n",
    "plt.xlabel('Vraies Valeurs')\n",
    "plt.ylabel('Prédictions')\n",
    "plt.title('Régression des Textes - Prédictions vs Vraies Valeurs')\n",
    "plt.show()"
   ]
  },
  {
   "cell_type": "raw",
   "id": "0768f1f9",
   "metadata": {},
   "source": [
    "# Interprétation\n",
    "\n",
    "La qualité du modéle de régression est de 72,4%. Cela indique qu'environ 72,4% de la variance dans les données, ce qui est considéré comme une performance relativement bonne. \n",
    "\n",
    "MSE=0,003 est une valeur relativement basse, ce qui suggère que les prédictions de notre modèle sont généralement proches des vraies valeurs."
   ]
  }
 ],
 "metadata": {
  "kernelspec": {
   "display_name": "Python 3 (ipykernel)",
   "language": "python",
   "name": "python3"
  },
  "language_info": {
   "codemirror_mode": {
    "name": "ipython",
    "version": 3
   },
   "file_extension": ".py",
   "mimetype": "text/x-python",
   "name": "python",
   "nbconvert_exporter": "python",
   "pygments_lexer": "ipython3",
   "version": "3.11.5"
  }
 },
 "nbformat": 4,
 "nbformat_minor": 5
}
